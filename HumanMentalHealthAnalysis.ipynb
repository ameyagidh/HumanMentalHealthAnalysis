{
 "cells": [
  {
   "cell_type": "markdown",
   "id": "86272e87",
   "metadata": {
    "id": "86272e87"
   },
   "source": [
    "## Importing necessary packages"
   ]
  },
  {
   "cell_type": "code",
   "execution_count": 1,
   "id": "3520d74d",
   "metadata": {
    "id": "3520d74d"
   },
   "outputs": [],
   "source": [
    "import pandas as pd\n",
    "import numpy as np\n",
    "import nltk\n",
    "nltk.download('stopwords')\n",
    "nltk.download('punkt')\n",
    "nltk.download('omw-1.4')\n",
    "from sklearn.feature_extraction.text import CountVectorizer, TfidfVectorizer\n",
    "nltk.download('vader_lexicon')\n",
    "from nltk.sentiment.vader import SentimentIntensityAnalyzer\n"
   ]
  },
  {
   "cell_type": "code",
   "execution_count": 2,
   "id": "69f53722",
   "metadata": {
    "id": "69f53722"
   },
   "outputs": [],
   "source": [
    "# Read the data from CSV file\n",
    "df=pd.read_csv('./data/mental_health_data.csv')"
   ]
  },
  {
   "cell_type": "code",
   "execution_count": 3,
   "id": "9d45c3d0",
   "metadata": {
    "colab": {
     "base_uri": "https://localhost:8080/"
    },
    "id": "9d45c3d0",
    "outputId": "ae862b03-73e4-4cfa-e4f4-0efac2d58a66"
   },
   "outputs": [
    {
     "data": {
      "text/plain": [
       "subreddit\n",
       "mentalhealth          999\n",
       "Anxiety               998\n",
       "BPD                   991\n",
       "SuicideWatch          975\n",
       "depression            912\n",
       "CasualConversation    810\n",
       "bipolar               554\n",
       "Name: count, dtype: int64"
      ]
     },
     "execution_count": 3,
     "metadata": {},
     "output_type": "execute_result"
    }
   ],
   "source": [
    "# Count the number of posts from various subreddits\n",
    "subreddit_counts = df['subreddit'].value_counts()\n",
    "print(subreddit_counts)"
   ]
  },
  {
   "cell_type": "code",
   "execution_count": 4,
   "id": "a5d0cc52",
   "metadata": {
    "colab": {
     "base_uri": "https://localhost:8080/"
    },
    "id": "a5d0cc52",
    "outputId": "bf3156d0-22d1-43f6-e806-48a0eff794d7",
    "scrolled": false
   },
   "outputs": [
    {
     "data": {
      "text/plain": [
       "Unnamed: 0        0\n",
       "title             0\n",
       "body            316\n",
       "author           26\n",
       "url               0\n",
       "score             0\n",
       "upvote_ratio      0\n",
       "subreddit         0\n",
       "dtype: int64"
      ]
     },
     "execution_count": 4,
     "metadata": {},
     "output_type": "execute_result"
    }
   ],
   "source": [
    "# Check for missing values\n",
    "na_values_count = df.isna().sum()\n",
    "print(na_values_count)"
   ]
  },
  {
   "cell_type": "code",
   "execution_count": 5,
   "id": "6525334d",
   "metadata": {
    "colab": {
     "base_uri": "https://localhost:8080/",
     "height": 419
    },
    "id": "6525334d",
    "outputId": "7065282b-6d63-4217-d8df-12dfd72b9ebb"
   },
   "outputs": [
    {
     "data": {
      "text/html": [
       "<div>\n",
       "<style scoped>\n",
       "    .dataframe tbody tr th:only-of-type {\n",
       "        vertical-align: middle;\n",
       "    }\n",
       "\n",
       "    .dataframe tbody tr th {\n",
       "        vertical-align: top;\n",
       "    }\n",
       "\n",
       "    .dataframe thead th {\n",
       "        text-align: right;\n",
       "    }\n",
       "</style>\n",
       "<table border=\"1\" class=\"dataframe\">\n",
       "  <thead>\n",
       "    <tr style=\"text-align: right;\">\n",
       "      <th></th>\n",
       "      <th>Unnamed: 0</th>\n",
       "      <th>title</th>\n",
       "      <th>body</th>\n",
       "      <th>author</th>\n",
       "      <th>url</th>\n",
       "      <th>score</th>\n",
       "      <th>upvote_ratio</th>\n",
       "      <th>subreddit</th>\n",
       "    </tr>\n",
       "  </thead>\n",
       "  <tbody>\n",
       "    <tr>\n",
       "      <th>11</th>\n",
       "      <td>11</td>\n",
       "      <td>LPT: Learn to distance yourself from your thou...</td>\n",
       "      <td>NaN</td>\n",
       "      <td>ChillingInChai</td>\n",
       "      <td>/r/LifeProTips/comments/n3loxq/lpt_learn_to_di...</td>\n",
       "      <td>2</td>\n",
       "      <td>1.00</td>\n",
       "      <td>mentalhealth</td>\n",
       "    </tr>\n",
       "    <tr>\n",
       "      <th>72</th>\n",
       "      <td>72</td>\n",
       "      <td>Lifelong neglect and abuse has led me unable t...</td>\n",
       "      <td>NaN</td>\n",
       "      <td>Ctantkeeper</td>\n",
       "      <td>/r/selfimprovement/comments/n3h3vv/lifelong_ne...</td>\n",
       "      <td>2</td>\n",
       "      <td>1.00</td>\n",
       "      <td>mentalhealth</td>\n",
       "    </tr>\n",
       "    <tr>\n",
       "      <th>213</th>\n",
       "      <td>213</td>\n",
       "      <td>Loving again</td>\n",
       "      <td>NaN</td>\n",
       "      <td>hrundiskel</td>\n",
       "      <td>/r/relationship_advice/comments/n3epx7/do_you_...</td>\n",
       "      <td>1</td>\n",
       "      <td>1.00</td>\n",
       "      <td>mentalhealth</td>\n",
       "    </tr>\n",
       "    <tr>\n",
       "      <th>255</th>\n",
       "      <td>255</td>\n",
       "      <td>My mum is emotionally, verbally and at times p...</td>\n",
       "      <td>NaN</td>\n",
       "      <td>JackDoe1324</td>\n",
       "      <td>/r/domesticviolence/comments/n30v3n/my_mum_is_...</td>\n",
       "      <td>5</td>\n",
       "      <td>0.86</td>\n",
       "      <td>mentalhealth</td>\n",
       "    </tr>\n",
       "    <tr>\n",
       "      <th>260</th>\n",
       "      <td>260</td>\n",
       "      <td>I’m so scared</td>\n",
       "      <td>NaN</td>\n",
       "      <td>robsie123</td>\n",
       "      <td>/r/Paranoia/comments/n39e1m/im_so_scared/</td>\n",
       "      <td>1</td>\n",
       "      <td>1.00</td>\n",
       "      <td>mentalhealth</td>\n",
       "    </tr>\n",
       "    <tr>\n",
       "      <th>...</th>\n",
       "      <td>...</td>\n",
       "      <td>...</td>\n",
       "      <td>...</td>\n",
       "      <td>...</td>\n",
       "      <td>...</td>\n",
       "      <td>...</td>\n",
       "      <td>...</td>\n",
       "      <td>...</td>\n",
       "    </tr>\n",
       "    <tr>\n",
       "      <th>5312</th>\n",
       "      <td>5312</td>\n",
       "      <td>Is hanging the easiest and least painful way t...</td>\n",
       "      <td>NaN</td>\n",
       "      <td>PaceJust</td>\n",
       "      <td>https://www.reddit.com/r/SuicideWatch/comments...</td>\n",
       "      <td>2</td>\n",
       "      <td>1.00</td>\n",
       "      <td>SuicideWatch</td>\n",
       "    </tr>\n",
       "    <tr>\n",
       "      <th>5325</th>\n",
       "      <td>5325</td>\n",
       "      <td>I suffer from severe hyperacusis and Tinnitus....</td>\n",
       "      <td>NaN</td>\n",
       "      <td>Acceptable_Slide_667</td>\n",
       "      <td>https://www.reddit.com/r/SuicideWatch/comments...</td>\n",
       "      <td>3</td>\n",
       "      <td>1.00</td>\n",
       "      <td>SuicideWatch</td>\n",
       "    </tr>\n",
       "    <tr>\n",
       "      <th>5341</th>\n",
       "      <td>5341</td>\n",
       "      <td>My boyfriend of four years dumped me. My best ...</td>\n",
       "      <td>NaN</td>\n",
       "      <td>Ahunteriwillbe</td>\n",
       "      <td>https://www.reddit.com/r/SuicideWatch/comments...</td>\n",
       "      <td>3</td>\n",
       "      <td>0.80</td>\n",
       "      <td>SuicideWatch</td>\n",
       "    </tr>\n",
       "    <tr>\n",
       "      <th>5353</th>\n",
       "      <td>5353</td>\n",
       "      <td>My fiance is about to dump me</td>\n",
       "      <td>NaN</td>\n",
       "      <td>Throwaway2710383952</td>\n",
       "      <td>https://www.reddit.com/r/SuicideWatch/comments...</td>\n",
       "      <td>2</td>\n",
       "      <td>1.00</td>\n",
       "      <td>SuicideWatch</td>\n",
       "    </tr>\n",
       "    <tr>\n",
       "      <th>5365</th>\n",
       "      <td>5365</td>\n",
       "      <td>I’m having suicidal thoughts</td>\n",
       "      <td>NaN</td>\n",
       "      <td>Forever-A-Loner999</td>\n",
       "      <td>https://www.reddit.com/r/SuicideWatch/comments...</td>\n",
       "      <td>2</td>\n",
       "      <td>1.00</td>\n",
       "      <td>SuicideWatch</td>\n",
       "    </tr>\n",
       "  </tbody>\n",
       "</table>\n",
       "<p>316 rows × 8 columns</p>\n",
       "</div>"
      ],
      "text/plain": [
       "      Unnamed: 0                                              title body  \\\n",
       "11            11  LPT: Learn to distance yourself from your thou...  NaN   \n",
       "72            72  Lifelong neglect and abuse has led me unable t...  NaN   \n",
       "213          213                                       Loving again  NaN   \n",
       "255          255  My mum is emotionally, verbally and at times p...  NaN   \n",
       "260          260                                      I’m so scared  NaN   \n",
       "...          ...                                                ...  ...   \n",
       "5312        5312  Is hanging the easiest and least painful way t...  NaN   \n",
       "5325        5325  I suffer from severe hyperacusis and Tinnitus....  NaN   \n",
       "5341        5341  My boyfriend of four years dumped me. My best ...  NaN   \n",
       "5353        5353                      My fiance is about to dump me  NaN   \n",
       "5365        5365                       I’m having suicidal thoughts  NaN   \n",
       "\n",
       "                    author                                                url  \\\n",
       "11          ChillingInChai  /r/LifeProTips/comments/n3loxq/lpt_learn_to_di...   \n",
       "72             Ctantkeeper  /r/selfimprovement/comments/n3h3vv/lifelong_ne...   \n",
       "213             hrundiskel  /r/relationship_advice/comments/n3epx7/do_you_...   \n",
       "255            JackDoe1324  /r/domesticviolence/comments/n30v3n/my_mum_is_...   \n",
       "260              robsie123          /r/Paranoia/comments/n39e1m/im_so_scared/   \n",
       "...                    ...                                                ...   \n",
       "5312              PaceJust  https://www.reddit.com/r/SuicideWatch/comments...   \n",
       "5325  Acceptable_Slide_667  https://www.reddit.com/r/SuicideWatch/comments...   \n",
       "5341        Ahunteriwillbe  https://www.reddit.com/r/SuicideWatch/comments...   \n",
       "5353   Throwaway2710383952  https://www.reddit.com/r/SuicideWatch/comments...   \n",
       "5365    Forever-A-Loner999  https://www.reddit.com/r/SuicideWatch/comments...   \n",
       "\n",
       "      score  upvote_ratio     subreddit  \n",
       "11        2          1.00  mentalhealth  \n",
       "72        2          1.00  mentalhealth  \n",
       "213       1          1.00  mentalhealth  \n",
       "255       5          0.86  mentalhealth  \n",
       "260       1          1.00  mentalhealth  \n",
       "...     ...           ...           ...  \n",
       "5312      2          1.00  SuicideWatch  \n",
       "5325      3          1.00  SuicideWatch  \n",
       "5341      3          0.80  SuicideWatch  \n",
       "5353      2          1.00  SuicideWatch  \n",
       "5365      2          1.00  SuicideWatch  \n",
       "\n",
       "[316 rows x 8 columns]"
      ]
     },
     "execution_count": 5,
     "metadata": {},
     "output_type": "execute_result"
    }
   ],
   "source": [
    "# Filter out rows where the 'body' column is null\n",
    "null_body_rows = df[df['body'].isna()]\n",
    "print(null_body_rows)"
   ]
  },
  {
   "cell_type": "code",
   "execution_count": 6,
   "id": "e46a3853",
   "metadata": {
    "id": "e46a3853"
   },
   "outputs": [
    {
     "data": {
      "text/plain": [
       "Index(['Unnamed: 0', 'title', 'body', 'author', 'url', 'score', 'upvote_ratio',\n",
       "       'subreddit', 'full_text'],\n",
       "      dtype='object')"
      ]
     },
     "execution_count": 6,
     "metadata": {},
     "output_type": "execute_result"
    }
   ],
   "source": [
    "# Fill missing values with empty strings\n",
    "df.fillna('', inplace=True)\n",
    "\n",
    "# Combine 'title' and 'body' columns to create a new column 'full_text'\n",
    "df['full_text'] = df['title'] + \" \" + df['body']\n",
    "\n",
    "# Display the columns of the DataFrame\n",
    "print(df.columns)"
   ]
  },
  {
   "cell_type": "code",
   "execution_count": 7,
   "id": "2c03f54b",
   "metadata": {
    "id": "2c03f54b"
   },
   "outputs": [],
   "source": [
    "# Group the posts based on author to check for multiple posts from the same author\n",
    "author_group = df.groupby(['subreddit', 'author']).count()\n",
    "print(author_group)"
   ]
  },
  {
   "cell_type": "code",
   "execution_count": 8,
   "id": "e002942a",
   "metadata": {
    "colab": {
     "base_uri": "https://localhost:8080/"
    },
    "id": "e002942a",
    "outputId": "b3b1fc9e-1ef8-4b93-e5a9-667c9704a93e"
   },
   "outputs": [
    {
     "data": {
      "text/plain": [
       "Index(['mothsandhoneydew', 'FelicityOfficial', 'hokeydokeydoo', 'Swappy-',\n",
       "       'XX_mel_XX', 'AnonymousCounselor52', 'Busy-Chapter-2462',\n",
       "       'Emotional-Treat-4523', 'imsorry_stillalive', 'Randumby194',\n",
       "       'Far-Shape-4319', 'ConnecticutJohn', 'unit213x', 'Zeetrocheze',\n",
       "       'starchild71', 'Critical_Shirt_2398', 'shootme_co', 'nsr-12309',\n",
       "       'HelpPlease6537', 'Masculive'],\n",
       "      dtype='object', name='author')"
      ]
     },
     "execution_count": 8,
     "metadata": {},
     "output_type": "execute_result"
    }
   ],
   "source": [
    "# Check authors with posts having high scores (Checking for popularity of posts)\n",
    "authors_top_score = df[df['subreddit'] == \"mentalhealth\"].groupby(['author']).score.mean().sort_values(ascending=False)[:20].index\n",
    "print(authors_top_score)"
   ]
  },
  {
   "cell_type": "code",
   "execution_count": 9,
   "id": "c2175771",
   "metadata": {
    "colab": {
     "base_uri": "https://localhost:8080/"
    },
    "id": "c2175771",
    "outputId": "850286ff-2408-4293-89eb-9e1d3f4cde70"
   },
   "outputs": [
    {
     "data": {
      "text/plain": [
       "author\n",
       "mothsandhoneydew        669.0\n",
       "FelicityOfficial        618.0\n",
       "hokeydokeydoo           416.0\n",
       "Swappy-                 406.0\n",
       "XX_mel_XX               393.0\n",
       "AnonymousCounselor52    387.0\n",
       "Busy-Chapter-2462       296.0\n",
       "Emotional-Treat-4523    240.0\n",
       "imsorry_stillalive      189.0\n",
       "Randumby194             152.0\n",
       "Far-Shape-4319          130.0\n",
       "ConnecticutJohn         112.0\n",
       "unit213x                 69.0\n",
       "Zeetrocheze              42.0\n",
       "starchild71              39.0\n",
       "Critical_Shirt_2398      37.0\n",
       "shootme_co               36.0\n",
       "nsr-12309                36.0\n",
       "HelpPlease6537           28.0\n",
       "Masculive                26.0\n",
       "Name: score, dtype: float64"
      ]
     },
     "execution_count": 9,
     "metadata": {},
     "output_type": "execute_result"
    }
   ],
   "source": [
    "# Calculate the mean of scores for posts in the \"mentalhealth\" subreddit, grouped by author\n",
    "mean_scores_mentalhealth = df[df['subreddit'] == \"mentalhealth\"].groupby(['author']).score.mean().sort_values(ascending=False)[:20]\n",
    "print(mean_scores_mentalhealth)"
   ]
  },
  {
   "cell_type": "code",
   "execution_count": 11,
   "id": "7fe286f0",
   "metadata": {
    "id": "7fe286f0"
   },
   "outputs": [],
   "source": [
    "import re\n",
    "\n",
    "def reddit_specific_preprocessing(text):\n",
    "    # Remove newlines (one or more)\n",
    "    text = re.sub(r'\\n+', ' ', text)\n",
    "\n",
    "    # Remove quotes\n",
    "    text = re.sub(r'\\\"?\\\\?&?gt;?', '', text)\n",
    "\n",
    "    # Remove asterisk\n",
    "    text = re.sub(r'\\*', '', text)\n",
    "\n",
    "    # Remove bullet points\n",
    "    text = re.sub('&amp;#x200B;', '', text)\n",
    "\n",
    "    # Remove links (always enclosed between parenthesis)\n",
    "    text = re.sub(r'\\[.*?\\]\\(.*?\\)', '', text)\n",
    "\n",
    "    # Remove strikethroughs\n",
    "    text = re.sub('~', '', text)\n",
    "\n",
    "    # Remove spoilers, which are used with < less-than (Preserves the text)\n",
    "    text = re.sub('&lt;', '', text)\n",
    "    text = re.sub(r'!(.*?)!', r'\\1', text)\n",
    "\n",
    "    # Code, inline and block\n",
    "    text = re.sub('`', '', text)\n",
    "\n",
    "    # Superscript (Preserves the text)\n",
    "    text = re.sub(r'\\^\\((.*?)\\)', r'\\1', text)\n",
    "\n",
    "    # Table\n",
    "    text = re.sub(r'\\|', ' ', text)\n",
    "    text = re.sub(':-', '', text)\n",
    "\n",
    "    # Heading\n",
    "    text = re.sub('#', '', text)\n",
    "\n",
    "    # Clean white spaces\n",
    "    text = text.strip()\n",
    "    text = re.sub(r'\\s\\s+', ' ', text)\n",
    "\n",
    "    return text"
   ]
  },
  {
   "cell_type": "code",
   "execution_count": 12,
   "id": "b997c13e",
   "metadata": {
    "scrolled": true
   },
   "outputs": [
    {
     "data": {
      "text/html": [
       "<div>\n",
       "<style scoped>\n",
       "    .dataframe tbody tr th:only-of-type {\n",
       "        vertical-align: middle;\n",
       "    }\n",
       "\n",
       "    .dataframe tbody tr th {\n",
       "        vertical-align: top;\n",
       "    }\n",
       "\n",
       "    .dataframe thead th {\n",
       "        text-align: right;\n",
       "    }\n",
       "</style>\n",
       "<table border=\"1\" class=\"dataframe\">\n",
       "  <thead>\n",
       "    <tr style=\"text-align: right;\">\n",
       "      <th></th>\n",
       "      <th>Unnamed: 0</th>\n",
       "      <th>title</th>\n",
       "      <th>body</th>\n",
       "      <th>author</th>\n",
       "      <th>url</th>\n",
       "      <th>score</th>\n",
       "      <th>upvote_ratio</th>\n",
       "      <th>subreddit</th>\n",
       "      <th>full_text</th>\n",
       "    </tr>\n",
       "  </thead>\n",
       "  <tbody>\n",
       "    <tr>\n",
       "      <th>0</th>\n",
       "      <td>0</td>\n",
       "      <td>Craving closeness</td>\n",
       "      <td>About a year ago, I got into a relationship th...</td>\n",
       "      <td>Nash4N00b</td>\n",
       "      <td>https://www.reddit.com/r/mentalhealth/comments...</td>\n",
       "      <td>2</td>\n",
       "      <td>1.00</td>\n",
       "      <td>mentalhealth</td>\n",
       "      <td>Craving closeness About a year ago, I got into...</td>\n",
       "    </tr>\n",
       "    <tr>\n",
       "      <th>1</th>\n",
       "      <td>1</td>\n",
       "      <td>Mental health class</td>\n",
       "      <td>I think schools should have a mandatory mental...</td>\n",
       "      <td>ConnecticutJohn</td>\n",
       "      <td>https://www.reddit.com/r/mentalhealth/comments...</td>\n",
       "      <td>112</td>\n",
       "      <td>0.97</td>\n",
       "      <td>mentalhealth</td>\n",
       "      <td>Mental health class I think schools should hav...</td>\n",
       "    </tr>\n",
       "    <tr>\n",
       "      <th>2</th>\n",
       "      <td>2</td>\n",
       "      <td>My 7yo son accidentally fell on our pet bird a...</td>\n",
       "      <td>It was TRULY a freak accident and not expected...</td>\n",
       "      <td>AnonymousCounselor52</td>\n",
       "      <td>https://www.reddit.com/r/mentalhealth/comments...</td>\n",
       "      <td>387</td>\n",
       "      <td>0.97</td>\n",
       "      <td>mentalhealth</td>\n",
       "      <td>My 7yo son accidentally fell on our pet bird a...</td>\n",
       "    </tr>\n",
       "    <tr>\n",
       "      <th>3</th>\n",
       "      <td>3</td>\n",
       "      <td>Who else doesn’t want covid world to leave</td>\n",
       "      <td>My mental health has been so bad and I’ve been...</td>\n",
       "      <td>jjdabest8820</td>\n",
       "      <td>https://www.reddit.com/r/mentalhealth/comments...</td>\n",
       "      <td>15</td>\n",
       "      <td>0.94</td>\n",
       "      <td>mentalhealth</td>\n",
       "      <td>Who else doesn’t want covid world to leave My ...</td>\n",
       "    </tr>\n",
       "    <tr>\n",
       "      <th>4</th>\n",
       "      <td>4</td>\n",
       "      <td>my mental health is suffering due to my contro...</td>\n",
       "      <td>note: please read my previous posts for contex...</td>\n",
       "      <td>Wooden_View_7120</td>\n",
       "      <td>https://www.reddit.com/r/mentalhealth/comments...</td>\n",
       "      <td>7</td>\n",
       "      <td>0.83</td>\n",
       "      <td>mentalhealth</td>\n",
       "      <td>my mental health is suffering due to my contro...</td>\n",
       "    </tr>\n",
       "    <tr>\n",
       "      <th>...</th>\n",
       "      <td>...</td>\n",
       "      <td>...</td>\n",
       "      <td>...</td>\n",
       "      <td>...</td>\n",
       "      <td>...</td>\n",
       "      <td>...</td>\n",
       "      <td>...</td>\n",
       "      <td>...</td>\n",
       "      <td>...</td>\n",
       "    </tr>\n",
       "    <tr>\n",
       "      <th>6234</th>\n",
       "      <td>6234</td>\n",
       "      <td>Gave my 4 year old stepson an empty box to pla...</td>\n",
       "      <td>We just got some packages delivered and one wa...</td>\n",
       "      <td>Hatecookie</td>\n",
       "      <td>https://www.reddit.com/r/CasualConversation/co...</td>\n",
       "      <td>10</td>\n",
       "      <td>1.00</td>\n",
       "      <td>CasualConversation</td>\n",
       "      <td>Gave my 4 year old stepson an empty box to pla...</td>\n",
       "    </tr>\n",
       "    <tr>\n",
       "      <th>6235</th>\n",
       "      <td>6235</td>\n",
       "      <td>I just realized that I'm not funny anymore</td>\n",
       "      <td>For my whole life people would always say that...</td>\n",
       "      <td>SirHovaOfBrooklyn</td>\n",
       "      <td>https://www.reddit.com/r/CasualConversation/co...</td>\n",
       "      <td>10</td>\n",
       "      <td>1.00</td>\n",
       "      <td>CasualConversation</td>\n",
       "      <td>I just realized that I'm not funny anymore For...</td>\n",
       "    </tr>\n",
       "    <tr>\n",
       "      <th>6236</th>\n",
       "      <td>6236</td>\n",
       "      <td>Am I the only one that finds the words “best f...</td>\n",
       "      <td>I used to call that to my friends back then wh...</td>\n",
       "      <td>Anonymous_12740</td>\n",
       "      <td>https://www.reddit.com/r/CasualConversation/co...</td>\n",
       "      <td>2</td>\n",
       "      <td>0.75</td>\n",
       "      <td>CasualConversation</td>\n",
       "      <td>Am I the only one that finds the words “best f...</td>\n",
       "    </tr>\n",
       "    <tr>\n",
       "      <th>6237</th>\n",
       "      <td>6237</td>\n",
       "      <td>Anyone else has a big fear to physical pain</td>\n",
       "      <td>I mean, sure, we all fear physical pain and we...</td>\n",
       "      <td>ganimede_s</td>\n",
       "      <td>https://www.reddit.com/r/CasualConversation/co...</td>\n",
       "      <td>6</td>\n",
       "      <td>0.80</td>\n",
       "      <td>CasualConversation</td>\n",
       "      <td>Anyone else has a big fear to physical pain I ...</td>\n",
       "    </tr>\n",
       "    <tr>\n",
       "      <th>6238</th>\n",
       "      <td>6238</td>\n",
       "      <td>What's the better way to cook eggs?</td>\n",
       "      <td>\\n\\n[View Poll](https://www.reddit.com/poll/mx...</td>\n",
       "      <td>One-Pea3541</td>\n",
       "      <td>https://www.reddit.com/r/CasualConversation/co...</td>\n",
       "      <td>4</td>\n",
       "      <td>0.75</td>\n",
       "      <td>CasualConversation</td>\n",
       "      <td>What's the better way to cook eggs? \\n\\n[View ...</td>\n",
       "    </tr>\n",
       "  </tbody>\n",
       "</table>\n",
       "<p>6239 rows × 9 columns</p>\n",
       "</div>"
      ],
      "text/plain": [
       "      Unnamed: 0                                              title  \\\n",
       "0              0                                  Craving closeness   \n",
       "1              1                                Mental health class   \n",
       "2              2  My 7yo son accidentally fell on our pet bird a...   \n",
       "3              3         Who else doesn’t want covid world to leave   \n",
       "4              4  my mental health is suffering due to my contro...   \n",
       "...          ...                                                ...   \n",
       "6234        6234  Gave my 4 year old stepson an empty box to pla...   \n",
       "6235        6235         I just realized that I'm not funny anymore   \n",
       "6236        6236  Am I the only one that finds the words “best f...   \n",
       "6237        6237        Anyone else has a big fear to physical pain   \n",
       "6238        6238                What's the better way to cook eggs?   \n",
       "\n",
       "                                                   body                author  \\\n",
       "0     About a year ago, I got into a relationship th...             Nash4N00b   \n",
       "1     I think schools should have a mandatory mental...       ConnecticutJohn   \n",
       "2     It was TRULY a freak accident and not expected...  AnonymousCounselor52   \n",
       "3     My mental health has been so bad and I’ve been...          jjdabest8820   \n",
       "4     note: please read my previous posts for contex...      Wooden_View_7120   \n",
       "...                                                 ...                   ...   \n",
       "6234  We just got some packages delivered and one wa...            Hatecookie   \n",
       "6235  For my whole life people would always say that...     SirHovaOfBrooklyn   \n",
       "6236  I used to call that to my friends back then wh...       Anonymous_12740   \n",
       "6237  I mean, sure, we all fear physical pain and we...            ganimede_s   \n",
       "6238  \\n\\n[View Poll](https://www.reddit.com/poll/mx...           One-Pea3541   \n",
       "\n",
       "                                                    url  score  upvote_ratio  \\\n",
       "0     https://www.reddit.com/r/mentalhealth/comments...      2          1.00   \n",
       "1     https://www.reddit.com/r/mentalhealth/comments...    112          0.97   \n",
       "2     https://www.reddit.com/r/mentalhealth/comments...    387          0.97   \n",
       "3     https://www.reddit.com/r/mentalhealth/comments...     15          0.94   \n",
       "4     https://www.reddit.com/r/mentalhealth/comments...      7          0.83   \n",
       "...                                                 ...    ...           ...   \n",
       "6234  https://www.reddit.com/r/CasualConversation/co...     10          1.00   \n",
       "6235  https://www.reddit.com/r/CasualConversation/co...     10          1.00   \n",
       "6236  https://www.reddit.com/r/CasualConversation/co...      2          0.75   \n",
       "6237  https://www.reddit.com/r/CasualConversation/co...      6          0.80   \n",
       "6238  https://www.reddit.com/r/CasualConversation/co...      4          0.75   \n",
       "\n",
       "               subreddit                                          full_text  \n",
       "0           mentalhealth  Craving closeness About a year ago, I got into...  \n",
       "1           mentalhealth  Mental health class I think schools should hav...  \n",
       "2           mentalhealth  My 7yo son accidentally fell on our pet bird a...  \n",
       "3           mentalhealth  Who else doesn’t want covid world to leave My ...  \n",
       "4           mentalhealth  my mental health is suffering due to my contro...  \n",
       "...                  ...                                                ...  \n",
       "6234  CasualConversation  Gave my 4 year old stepson an empty box to pla...  \n",
       "6235  CasualConversation  I just realized that I'm not funny anymore For...  \n",
       "6236  CasualConversation  Am I the only one that finds the words “best f...  \n",
       "6237  CasualConversation  Anyone else has a big fear to physical pain I ...  \n",
       "6238  CasualConversation  What's the better way to cook eggs? \\n\\n[View ...  \n",
       "\n",
       "[6239 rows x 9 columns]"
      ]
     },
     "execution_count": 12,
     "metadata": {},
     "output_type": "execute_result"
    }
   ],
   "source": [
    "df"
   ]
  },
  {
   "cell_type": "code",
   "execution_count": 15,
   "id": "ad2b880c",
   "metadata": {
    "colab": {
     "base_uri": "https://localhost:8080/",
     "height": 88
    },
    "id": "ad2b880c",
    "outputId": "8e2239a4-d358-4c29-8053-29ffb15ac57c"
   },
   "outputs": [
    {
     "data": {
      "text/plain": [
       "'Craving closeness About a year ago, I got into a relationship that lasted until December 2020. I was the one that broke up. I loved her, but I didn’t see a satisfying future for me, so it was a tough decision to make. The problem is that I now really crave the closeness I had with her, cause I don’t really get that with anyone else. I want the love we had for each other with someone else, and it’s really annoying. I want the spooning, the sex, everything. I’m only 18, so it’s probably not something I should be thinking about, but I do. Is this normal, or should I seek help?'"
      ]
     },
     "execution_count": 15,
     "metadata": {},
     "output_type": "execute_result"
    }
   ],
   "source": [
    "# Prepare a subset of the data and store it in a new dataframe\n",
    "df_preprocessing = df[[\"subreddit\", 'url', 'full_text']].copy()\n",
    "\n",
    "# Apply Reddit specific preprocessing\n",
    "df_preprocessing['01_reddit_specific'] = df_preprocessing['full_text'].apply(lambda text: reddit_specific_preprocessing(text))\n",
    "\n",
    "# Print out a message\n",
    "print(df_preprocessing['01_reddit_specific'][0])"
   ]
  },
  {
   "cell_type": "code",
   "execution_count": 18,
   "id": "f6771885",
   "metadata": {
    "colab": {
     "base_uri": "https://localhost:8080/"
    },
    "id": "f6771885",
    "outputId": "af9e6408-c96e-4191-cbce-b3d9b8d34e27"
   },
   "outputs": [
    {
     "name": "stderr",
     "output_type": "stream",
     "text": [
      "[nltk_data] Downloading package wordnet to\n",
      "[nltk_data]     /Users/ameyagidh/nltk_data...\n",
      "[nltk_data]   Package wordnet is already up-to-date!\n"
     ]
    }
   ],
   "source": [
    "from nltk.corpus import stopwords\n",
    "from nltk.tokenize import word_tokenize\n",
    "from nltk.stem import PorterStemmer, WordNetLemmatizer\n",
    "import re\n",
    "import nltk\n",
    "\n",
    "nltk.download('wordnet')\n",
    "\n",
    "def clean_message(message):\n",
    "    '''\n",
    "    Input:\n",
    "        message: a string containing a message.\n",
    "    Output:\n",
    "        messages_cleaned: a list of words containing the processed message. \n",
    "    '''\n",
    "\n",
    "    stem = PorterStemmer()\n",
    "    lemma = WordNetLemmatizer()\n",
    "    stop_words = set(stopwords.words(\"english\"))\n",
    "    messages_cleaned = []\n",
    "    message = word_tokenize(message)\n",
    "\n",
    "    for i in message:\n",
    "        if i.lower() not in stop_words and i.isalnum():\n",
    "            messages_cleaned.append(re.sub(r'http\\S+', '', lemma.lemmatize(i.lower())))\n",
    "    \n",
    "    return \" \".join(messages_cleaned)"
   ]
  },
  {
   "cell_type": "code",
   "execution_count": 19,
   "id": "d536f306",
   "metadata": {
    "id": "d536f306"
   },
   "outputs": [
    {
     "data": {
      "text/html": [
       "<div>\n",
       "<style scoped>\n",
       "    .dataframe tbody tr th:only-of-type {\n",
       "        vertical-align: middle;\n",
       "    }\n",
       "\n",
       "    .dataframe tbody tr th {\n",
       "        vertical-align: top;\n",
       "    }\n",
       "\n",
       "    .dataframe thead th {\n",
       "        text-align: right;\n",
       "    }\n",
       "</style>\n",
       "<table border=\"1\" class=\"dataframe\">\n",
       "  <thead>\n",
       "    <tr style=\"text-align: right;\">\n",
       "      <th></th>\n",
       "      <th>Unnamed: 0</th>\n",
       "      <th>title</th>\n",
       "      <th>body</th>\n",
       "      <th>author</th>\n",
       "      <th>url</th>\n",
       "      <th>score</th>\n",
       "      <th>upvote_ratio</th>\n",
       "      <th>subreddit</th>\n",
       "      <th>full_text</th>\n",
       "    </tr>\n",
       "  </thead>\n",
       "  <tbody>\n",
       "    <tr>\n",
       "      <th>0</th>\n",
       "      <td>0</td>\n",
       "      <td>Craving closeness</td>\n",
       "      <td>About a year ago, I got into a relationship th...</td>\n",
       "      <td>Nash4N00b</td>\n",
       "      <td>https://www.reddit.com/r/mentalhealth/comments...</td>\n",
       "      <td>2</td>\n",
       "      <td>1.00</td>\n",
       "      <td>mentalhealth</td>\n",
       "      <td>Craving closeness About a year ago, I got into...</td>\n",
       "    </tr>\n",
       "    <tr>\n",
       "      <th>1</th>\n",
       "      <td>1</td>\n",
       "      <td>Mental health class</td>\n",
       "      <td>I think schools should have a mandatory mental...</td>\n",
       "      <td>ConnecticutJohn</td>\n",
       "      <td>https://www.reddit.com/r/mentalhealth/comments...</td>\n",
       "      <td>112</td>\n",
       "      <td>0.97</td>\n",
       "      <td>mentalhealth</td>\n",
       "      <td>Mental health class I think schools should hav...</td>\n",
       "    </tr>\n",
       "    <tr>\n",
       "      <th>2</th>\n",
       "      <td>2</td>\n",
       "      <td>My 7yo son accidentally fell on our pet bird a...</td>\n",
       "      <td>It was TRULY a freak accident and not expected...</td>\n",
       "      <td>AnonymousCounselor52</td>\n",
       "      <td>https://www.reddit.com/r/mentalhealth/comments...</td>\n",
       "      <td>387</td>\n",
       "      <td>0.97</td>\n",
       "      <td>mentalhealth</td>\n",
       "      <td>My 7yo son accidentally fell on our pet bird a...</td>\n",
       "    </tr>\n",
       "    <tr>\n",
       "      <th>3</th>\n",
       "      <td>3</td>\n",
       "      <td>Who else doesn’t want covid world to leave</td>\n",
       "      <td>My mental health has been so bad and I’ve been...</td>\n",
       "      <td>jjdabest8820</td>\n",
       "      <td>https://www.reddit.com/r/mentalhealth/comments...</td>\n",
       "      <td>15</td>\n",
       "      <td>0.94</td>\n",
       "      <td>mentalhealth</td>\n",
       "      <td>Who else doesn’t want covid world to leave My ...</td>\n",
       "    </tr>\n",
       "    <tr>\n",
       "      <th>4</th>\n",
       "      <td>4</td>\n",
       "      <td>my mental health is suffering due to my contro...</td>\n",
       "      <td>note: please read my previous posts for contex...</td>\n",
       "      <td>Wooden_View_7120</td>\n",
       "      <td>https://www.reddit.com/r/mentalhealth/comments...</td>\n",
       "      <td>7</td>\n",
       "      <td>0.83</td>\n",
       "      <td>mentalhealth</td>\n",
       "      <td>my mental health is suffering due to my contro...</td>\n",
       "    </tr>\n",
       "    <tr>\n",
       "      <th>...</th>\n",
       "      <td>...</td>\n",
       "      <td>...</td>\n",
       "      <td>...</td>\n",
       "      <td>...</td>\n",
       "      <td>...</td>\n",
       "      <td>...</td>\n",
       "      <td>...</td>\n",
       "      <td>...</td>\n",
       "      <td>...</td>\n",
       "    </tr>\n",
       "    <tr>\n",
       "      <th>6234</th>\n",
       "      <td>6234</td>\n",
       "      <td>Gave my 4 year old stepson an empty box to pla...</td>\n",
       "      <td>We just got some packages delivered and one wa...</td>\n",
       "      <td>Hatecookie</td>\n",
       "      <td>https://www.reddit.com/r/CasualConversation/co...</td>\n",
       "      <td>10</td>\n",
       "      <td>1.00</td>\n",
       "      <td>CasualConversation</td>\n",
       "      <td>Gave my 4 year old stepson an empty box to pla...</td>\n",
       "    </tr>\n",
       "    <tr>\n",
       "      <th>6235</th>\n",
       "      <td>6235</td>\n",
       "      <td>I just realized that I'm not funny anymore</td>\n",
       "      <td>For my whole life people would always say that...</td>\n",
       "      <td>SirHovaOfBrooklyn</td>\n",
       "      <td>https://www.reddit.com/r/CasualConversation/co...</td>\n",
       "      <td>10</td>\n",
       "      <td>1.00</td>\n",
       "      <td>CasualConversation</td>\n",
       "      <td>I just realized that I'm not funny anymore For...</td>\n",
       "    </tr>\n",
       "    <tr>\n",
       "      <th>6236</th>\n",
       "      <td>6236</td>\n",
       "      <td>Am I the only one that finds the words “best f...</td>\n",
       "      <td>I used to call that to my friends back then wh...</td>\n",
       "      <td>Anonymous_12740</td>\n",
       "      <td>https://www.reddit.com/r/CasualConversation/co...</td>\n",
       "      <td>2</td>\n",
       "      <td>0.75</td>\n",
       "      <td>CasualConversation</td>\n",
       "      <td>Am I the only one that finds the words “best f...</td>\n",
       "    </tr>\n",
       "    <tr>\n",
       "      <th>6237</th>\n",
       "      <td>6237</td>\n",
       "      <td>Anyone else has a big fear to physical pain</td>\n",
       "      <td>I mean, sure, we all fear physical pain and we...</td>\n",
       "      <td>ganimede_s</td>\n",
       "      <td>https://www.reddit.com/r/CasualConversation/co...</td>\n",
       "      <td>6</td>\n",
       "      <td>0.80</td>\n",
       "      <td>CasualConversation</td>\n",
       "      <td>Anyone else has a big fear to physical pain I ...</td>\n",
       "    </tr>\n",
       "    <tr>\n",
       "      <th>6238</th>\n",
       "      <td>6238</td>\n",
       "      <td>What's the better way to cook eggs?</td>\n",
       "      <td>\\n\\n[View Poll](https://www.reddit.com/poll/mx...</td>\n",
       "      <td>One-Pea3541</td>\n",
       "      <td>https://www.reddit.com/r/CasualConversation/co...</td>\n",
       "      <td>4</td>\n",
       "      <td>0.75</td>\n",
       "      <td>CasualConversation</td>\n",
       "      <td>What's the better way to cook eggs? \\n\\n[View ...</td>\n",
       "    </tr>\n",
       "  </tbody>\n",
       "</table>\n",
       "<p>6239 rows × 9 columns</p>\n",
       "</div>"
      ],
      "text/plain": [
       "      Unnamed: 0                                              title  \\\n",
       "0              0                                  Craving closeness   \n",
       "1              1                                Mental health class   \n",
       "2              2  My 7yo son accidentally fell on our pet bird a...   \n",
       "3              3         Who else doesn’t want covid world to leave   \n",
       "4              4  my mental health is suffering due to my contro...   \n",
       "...          ...                                                ...   \n",
       "6234        6234  Gave my 4 year old stepson an empty box to pla...   \n",
       "6235        6235         I just realized that I'm not funny anymore   \n",
       "6236        6236  Am I the only one that finds the words “best f...   \n",
       "6237        6237        Anyone else has a big fear to physical pain   \n",
       "6238        6238                What's the better way to cook eggs?   \n",
       "\n",
       "                                                   body                author  \\\n",
       "0     About a year ago, I got into a relationship th...             Nash4N00b   \n",
       "1     I think schools should have a mandatory mental...       ConnecticutJohn   \n",
       "2     It was TRULY a freak accident and not expected...  AnonymousCounselor52   \n",
       "3     My mental health has been so bad and I’ve been...          jjdabest8820   \n",
       "4     note: please read my previous posts for contex...      Wooden_View_7120   \n",
       "...                                                 ...                   ...   \n",
       "6234  We just got some packages delivered and one wa...            Hatecookie   \n",
       "6235  For my whole life people would always say that...     SirHovaOfBrooklyn   \n",
       "6236  I used to call that to my friends back then wh...       Anonymous_12740   \n",
       "6237  I mean, sure, we all fear physical pain and we...            ganimede_s   \n",
       "6238  \\n\\n[View Poll](https://www.reddit.com/poll/mx...           One-Pea3541   \n",
       "\n",
       "                                                    url  score  upvote_ratio  \\\n",
       "0     https://www.reddit.com/r/mentalhealth/comments...      2          1.00   \n",
       "1     https://www.reddit.com/r/mentalhealth/comments...    112          0.97   \n",
       "2     https://www.reddit.com/r/mentalhealth/comments...    387          0.97   \n",
       "3     https://www.reddit.com/r/mentalhealth/comments...     15          0.94   \n",
       "4     https://www.reddit.com/r/mentalhealth/comments...      7          0.83   \n",
       "...                                                 ...    ...           ...   \n",
       "6234  https://www.reddit.com/r/CasualConversation/co...     10          1.00   \n",
       "6235  https://www.reddit.com/r/CasualConversation/co...     10          1.00   \n",
       "6236  https://www.reddit.com/r/CasualConversation/co...      2          0.75   \n",
       "6237  https://www.reddit.com/r/CasualConversation/co...      6          0.80   \n",
       "6238  https://www.reddit.com/r/CasualConversation/co...      4          0.75   \n",
       "\n",
       "               subreddit                                          full_text  \n",
       "0           mentalhealth  Craving closeness About a year ago, I got into...  \n",
       "1           mentalhealth  Mental health class I think schools should hav...  \n",
       "2           mentalhealth  My 7yo son accidentally fell on our pet bird a...  \n",
       "3           mentalhealth  Who else doesn’t want covid world to leave My ...  \n",
       "4           mentalhealth  my mental health is suffering due to my contro...  \n",
       "...                  ...                                                ...  \n",
       "6234  CasualConversation  Gave my 4 year old stepson an empty box to pla...  \n",
       "6235  CasualConversation  I just realized that I'm not funny anymore For...  \n",
       "6236  CasualConversation  Am I the only one that finds the words “best f...  \n",
       "6237  CasualConversation  Anyone else has a big fear to physical pain I ...  \n",
       "6238  CasualConversation  What's the better way to cook eggs? \\n\\n[View ...  \n",
       "\n",
       "[6239 rows x 9 columns]"
      ]
     },
     "execution_count": 19,
     "metadata": {},
     "output_type": "execute_result"
    }
   ],
   "source": [
    "# Applying the clean_message function to the text\n",
    "df_preprocessing['cleaned_text'] = df_preprocessing[\"01_reddit_specific\"].apply(clean_message)\n",
    "\n",
    "# Displaying the DataFrame\n",
    "print(df_preprocessing)"
   ]
  },
  {
   "cell_type": "code",
   "execution_count": 21,
   "id": "43b87158",
   "metadata": {
    "id": "43b87158"
   },
   "outputs": [],
   "source": [
    "import langdetect\n",
    "\n",
    "language_counts = []\n",
    "for i in range(len(df_preprocessing)):\n",
    "    try:\n",
    "        language_counts.append(langdetect.detect(df_preprocessing[\"cleaned_text\"].iloc[i]))\n",
    "    except:\n",
    "        pass\n"
   ]
  },
  {
   "cell_type": "code",
   "execution_count": 22,
   "id": "f8c0554a",
   "metadata": {
    "id": "f8c0554a"
   },
   "outputs": [],
   "source": [
    "# Initialize count and index variables\n",
    "count = 0\n",
    "index = []\n",
    "\n",
    "# Iterate through the language detection results\n",
    "for i in range(len(language_counts)):\n",
    "    # Check if the language detected is English\n",
    "    if language_counts[i] == 'en':\n",
    "        # If English, append the index to the index list and increment count\n",
    "        index.append(i)\n",
    "        count += 1\n",
    "    else:\n",
    "        pass  # Skip non-English languages\n"
   ]
  },
  {
   "cell_type": "code",
   "execution_count": 26,
   "id": "t5EMNzO1595F",
   "metadata": {
    "id": "t5EMNzO1595F"
   },
   "outputs": [],
   "source": [
    "# Keeping only posts in English\n",
    "df_english = df_preprocessing.iloc[index]\n",
    "\n",
    "# Selecting required columns\n",
    "df = df_english[[\"subreddit\", \"url\", \"cleaned_text\"]]\n",
    "\n",
    "# Saving the preprocessed data to a CSV file\n",
    "df.to_csv('./data/data_preprocessed.csv', index=False)"
   ]
  },
  {
   "cell_type": "markdown",
   "id": "11574a06",
   "metadata": {
    "id": "11574a06"
   },
   "source": [
    "## Vectorizing the posts"
   ]
  },
  {
   "cell_type": "code",
   "execution_count": 27,
   "id": "040a24a4",
   "metadata": {
    "id": "040a24a4"
   },
   "outputs": [],
   "source": [
    "# Vectorizing the posts using Count Vectorizer and TFidf Vectorizer\n",
    "from sklearn.feature_extraction.text import CountVectorizer, TfidfVectorizer\n",
    "\n",
    "# Instantiate CountVectorizer\n",
    "cv = CountVectorizer()\n",
    "\n",
    "# Instantiate TfidfVectorizer\n",
    "tfidf = TfidfVectorizer()\n",
    "\n",
    "# Transform the text data using CountVectorizer\n",
    "X_cv = cv.fit_transform(df['cleaned_text'])\n",
    "\n",
    "# Transform the text data using TfidfVectorizer\n",
    "X_tfidf = tfidf.fit_transform(df['cleaned_text'])"
   ]
  },
  {
   "cell_type": "code",
   "execution_count": 28,
   "id": "8c2de676",
   "metadata": {
    "colab": {
     "base_uri": "https://localhost:8080/"
    },
    "id": "8c2de676",
    "outputId": "efb67b27-db3c-4aa4-dc31-b4daba78851b"
   },
   "outputs": [
    {
     "data": {
      "text/plain": [
       "subreddit\n",
       "Anxiety               989\n",
       "BPD                   988\n",
       "mentalhealth          987\n",
       "SuicideWatch          926\n",
       "depression            902\n",
       "CasualConversation    800\n",
       "bipolar               477\n",
       "Name: count, dtype: int64"
      ]
     },
     "execution_count": 28,
     "metadata": {},
     "output_type": "execute_result"
    }
   ],
   "source": [
    "# Count the number of posts from each subreddit\n",
    "subreddit_counts = df['subreddit'].value_counts()\n",
    "print(subreddit_counts)"
   ]
  },
  {
   "cell_type": "code",
   "execution_count": 30,
   "id": "57d2d21e",
   "metadata": {
    "colab": {
     "base_uri": "https://localhost:8080/"
    },
    "id": "57d2d21e",
    "outputId": "f6d98819-6ad3-4a03-cf59-e6e94e507fef"
   },
   "outputs": [
    {
     "name": "stderr",
     "output_type": "stream",
     "text": [
      "/var/folders/b_/qpl3sp4n7_55mr2n2w20rmh40000gn/T/ipykernel_2288/4268500046.py:2: SettingWithCopyWarning: \n",
      "A value is trying to be set on a copy of a slice from a DataFrame.\n",
      "Try using .loc[row_indexer,col_indexer] = value instead\n",
      "\n",
      "See the caveats in the documentation: https://pandas.pydata.org/pandas-docs/stable/user_guide/indexing.html#returning-a-view-versus-a-copy\n",
      "  df[\"list\"] = df[\"cleaned_text\"].str.split(\" \")\n"
     ]
    }
   ],
   "source": [
    "# Storing a list of tokens\n",
    "df[\"list\"] = df[\"cleaned_text\"].str.split(\" \")\n",
    "# Giving labels to the subreddit column\n",
    "df['subreddit_labels'] = df['subreddit'].map({'BPD': 0, 'mentalhealth': 1, \"Anxiety\": 2, \"SuicideWatch\": 3, \"depression\": 4, \"CasualConversation\": 5, \"bipolar\": 6})\n",
    "\n",
    "# Instantiate CountVectorizer\n",
    "cv = CountVectorizer()\n",
    "\n",
    "# Instantiate TfidfVectorizer\n",
    "tfidf = TfidfVectorizer()\n",
    "\n",
    "# Transform the text data using CountVectorizer\n",
    "X_cv = cv.fit_transform(df['cleaned_text'])\n",
    "\n",
    "# Transform the text data using TfidfVectorizer\n",
    "X_tfidf = tfidf.fit_transform(df['cleaned_text'])\n",
    "\n",
    "# Convert the TF-IDF matrix to an array\n",
    "X_tfidf_array = X_tfidf.toarray()\n",
    "\n",
    "# Define the target variable\n",
    "y = df[\"subreddit_labels\"]"
   ]
  },
  {
   "cell_type": "code",
   "execution_count": 36,
   "id": "9aa8d5f4",
   "metadata": {
    "colab": {
     "base_uri": "https://localhost:8080/"
    },
    "id": "9aa8d5f4",
    "outputId": "883b3cae-a3ef-4b37-f7cf-e2fb8c3ed839"
   },
   "outputs": [
    {
     "data": {
      "text/plain": [
       "array([[0, 0, 0, ..., 0, 0, 0],\n",
       "       [0, 0, 0, ..., 0, 0, 0],\n",
       "       [0, 0, 0, ..., 0, 0, 0],\n",
       "       ...,\n",
       "       [0, 0, 0, ..., 0, 0, 0],\n",
       "       [0, 0, 0, ..., 0, 0, 0],\n",
       "       [0, 0, 0, ..., 0, 0, 0]])"
      ]
     },
     "execution_count": 36,
     "metadata": {},
     "output_type": "execute_result"
    }
   ],
   "source": [
    "X_cv.toarray()"
   ]
  },
  {
   "cell_type": "markdown",
   "id": "0c48bce2",
   "metadata": {},
   "source": [
    "## Gaussian Naive Bayes"
   ]
  },
  {
   "cell_type": "code",
   "execution_count": 38,
   "id": "0b0db94b",
   "metadata": {
    "colab": {
     "base_uri": "https://localhost:8080/"
    },
    "id": "0b0db94b",
    "outputId": "07667586-3f25-4e45-9fb1-2938f1baa6f3"
   },
   "outputs": [
    {
     "name": "stdout",
     "output_type": "stream",
     "text": [
      "0.2977602108036891\n"
     ]
    }
   ],
   "source": [
    "# Implementing Gaussian Naive Bayes model to predict target labels\n",
    "from sklearn.naive_bayes import GaussianNB\n",
    "from sklearn.model_selection import train_test_split\n",
    "from sklearn.metrics import accuracy_score\n",
    "\n",
    "# Instantiate Gaussian Naive Bayes model\n",
    "model_nb = GaussianNB()\n",
    "\n",
    "# Splitting the data into training and testing sets\n",
    "X_train, X_test, y_train, y_test = train_test_split(X_cv.toarray(), y)\n",
    "\n",
    "# Fitting the model on the training data\n",
    "model_nb.fit(X_train, y_train)\n",
    "\n",
    "# Predicting on the test data\n",
    "y_pred_n = model_nb.predict(X_test)\n",
    "\n",
    "# Calculating accuracy score\n",
    "print(accuracy_score(y_pred_n, y_test))"
   ]
  },
  {
   "cell_type": "markdown",
   "id": "e0fe0d95",
   "metadata": {},
   "source": [
    "## Multinomial Naive Bayes"
   ]
  },
  {
   "cell_type": "code",
   "execution_count": 39,
   "id": "7648c7fc",
   "metadata": {
    "colab": {
     "base_uri": "https://localhost:8080/"
    },
    "id": "7648c7fc",
    "outputId": "78e95b63-fcf9-4cf0-e0e8-8a2edf85d53a"
   },
   "outputs": [
    {
     "name": "stdout",
     "output_type": "stream",
     "text": [
      "0.4189723320158103\n"
     ]
    }
   ],
   "source": [
    "# Implementing Multinomial Naive Bayes Model\n",
    "from sklearn.naive_bayes import MultinomialNB\n",
    "from sklearn.model_selection import train_test_split\n",
    "from sklearn.metrics import accuracy_score\n",
    "\n",
    "# Instantiate Multinomial Naive Bayes model\n",
    "model = MultinomialNB()\n",
    "\n",
    "# Convert NaN values to 0\n",
    "X = np.nan_to_num(X_tfidf)\n",
    "\n",
    "# Split the data into training and testing sets\n",
    "X_train, X_test, y_train, y_test = train_test_split(X.toarray(), y)\n",
    "\n",
    "# Fit the model on the training data\n",
    "model.fit(X_train, y_train)\n",
    "\n",
    "# Predict on the test data\n",
    "y_pred = model.predict(X_test)\n",
    "\n",
    "# Calculate accuracy score\n",
    "print(accuracy_score(y_pred, y_test))"
   ]
  },
  {
   "cell_type": "markdown",
   "id": "b42abd9a",
   "metadata": {},
   "source": [
    "## Logistic Regression"
   ]
  },
  {
   "cell_type": "code",
   "execution_count": 40,
   "id": "4693d96e",
   "metadata": {
    "colab": {
     "base_uri": "https://localhost:8080/"
    },
    "id": "4693d96e",
    "outputId": "794dcc61-d06c-4086-a2fc-7a61c9c12757"
   },
   "outputs": [
    {
     "name": "stdout",
     "output_type": "stream",
     "text": [
      "0.5876152832674572\n"
     ]
    }
   ],
   "source": [
    "# Implementing logistic regression\n",
    "from sklearn.linear_model import LogisticRegression\n",
    "\n",
    "# Instantiate logistic regression model\n",
    "linear_model = LogisticRegression()\n",
    "\n",
    "# Fit the model on the training data\n",
    "linear_model.fit(X_train, y_train)\n",
    "\n",
    "# Predict on the test data\n",
    "y_pred = linear_model.predict(X_test)\n",
    "\n",
    "# Calculate accuracy score\n",
    "print(accuracy_score(y_pred, y_test))"
   ]
  },
  {
   "cell_type": "markdown",
   "id": "3d4f2074",
   "metadata": {},
   "source": [
    "## Word2Vec"
   ]
  },
  {
   "cell_type": "code",
   "execution_count": 42,
   "id": "23517a92",
   "metadata": {
    "colab": {
     "base_uri": "https://localhost:8080/"
    },
    "id": "23517a92",
    "outputId": "c41ab40d-4640-4e81-d291-09ddaed04e62"
   },
   "outputs": [
    {
     "name": "stderr",
     "output_type": "stream",
     "text": [
      "/var/folders/b_/qpl3sp4n7_55mr2n2w20rmh40000gn/T/ipykernel_2288/871207453.py:10: VisibleDeprecationWarning: Creating an ndarray from ragged nested sequences (which is a list-or-tuple of lists-or-tuples-or ndarrays with different lengths or shapes) is deprecated. If you meant to do this, you must specify 'dtype=object' when creating the ndarray.\n",
      "  X_train_vect = np.array([np.array([word2vec.wv[i] for i in ls if i in words])\n",
      "/var/folders/b_/qpl3sp4n7_55mr2n2w20rmh40000gn/T/ipykernel_2288/871207453.py:12: VisibleDeprecationWarning: Creating an ndarray from ragged nested sequences (which is a list-or-tuple of lists-or-tuples-or ndarrays with different lengths or shapes) is deprecated. If you meant to do this, you must specify 'dtype=object' when creating the ndarray.\n",
      "  X_test_vect = np.array([np.array([word2vec.wv[i] for i in ls if i in words])\n"
     ]
    }
   ],
   "source": [
    "# Implementing Word2vec as the previous methods were not helpful in capturing the context of the posts.\n",
    "# The accuracy of the model was also pretty low.\n",
    "import gensim\n",
    "from gensim.models import Word2Vec\n",
    "\n",
    "# Splitting the data into training and testing sets\n",
    "X_train, X_test, y_train, y_test = train_test_split(df['cleaned_text'].str.split(\" \"), y)\n",
    "\n",
    "# Train Word2Vec model\n",
    "word2vec = Word2Vec(df['cleaned_text'].str.split(\" \"))\n",
    "\n",
    "# Get normalized word vectors\n",
    "vectors = word2vec.wv.get_normed_vectors()\n",
    "\n",
    "# Get set of words in the vocabulary\n",
    "words = set(word2vec.wv.index_to_key)\n",
    "\n",
    "# Convert text data into word vectors\n",
    "X_train_vect = np.array([np.array([word2vec.wv[i] for i in ls if i in words]) for ls in X_train])\n",
    "X_test_vect = np.array([np.array([word2vec.wv[i] for i in ls if i in words]) for ls in X_test])\n",
    "\n",
    "# Calculate average word vectors for each post in the training set\n",
    "X_train_vect_avg = []\n",
    "for v in X_train_vect:\n",
    "    if v.size:\n",
    "        X_train_vect_avg.append(v.mean(axis=0))\n",
    "    else:\n",
    "        X_train_vect_avg.append(np.zeros(100, dtype=float))\n",
    "\n",
    "# Calculate average word vectors for each post in the testing set\n",
    "X_test_vect_avg = []\n",
    "for v in X_test_vect:\n",
    "    if v.size:\n",
    "        X_test_vect_avg.append(v.mean(axis=0))\n",
    "    else:\n",
    "        X_test_vect_avg.append(np.zeros(100, dtype=float))\n",
    "# Get set of words in the vocabulary\n",
    "words = set(word2vec.wv.index_to_key)\n",
    "\n",
    "# Convert text data into word vectors\n",
    "X_train_vect = np.array([np.array([word2vec.wv[i] for i in ls if i in words]) for ls in X_train])\n",
    "X_test_vect = np.array([np.array([word2vec.wv[i] for i in ls if i in words]) for ls in X_test])\n",
    "\n",
    "# Calculate average word vectors for each post in the training set\n",
    "X_train_vect_avg = []\n",
    "for v in X_train_vect:\n",
    "    if v.size:\n",
    "        X_train_vect_avg.append(v.mean(axis=0))\n",
    "    else:\n",
    "        X_train_vect_avg.append(np.zeros(100, dtype=float))\n",
    "\n",
    "# Calculate average word vectors for each post in the testing set\n",
    "X_test_vect_avg = []\n",
    "for v in X_test_vect:\n",
    "    if v.size:\n",
    "        X_test_vect_avg.append(v.mean(axis=0))\n",
    "    else:\n",
    "        X_test_vect_avg.append(np.zeros(100, dtype=float))\n",
    "\n",
    "X_train_vect_avg = []\n",
    "for v in X_train_vect:\n",
    "    # Check if the word vector is non-empty\n",
    "    if v.size:\n",
    "        # Calculate the average word vector for the post\n",
    "        X_train_vect_avg.append(v.mean(axis=0))\n",
    "    else:\n",
    "        # If the word vector is empty, append a zero vector of appropriate dimensions\n",
    "        X_train_vect_avg.append(np.zeros(100, dtype=float))\n",
    "\n",
    "X_test_vect_avg = []\n",
    "for v in X_test_vect:\n",
    "    # Check if the word vector is non-empty\n",
    "    if v.size:\n",
    "        # Calculate the average word vector for the post\n",
    "        X_test_vect_avg.append(v.mean(axis=0))\n",
    "    else:\n",
    "        # If the word vector is empty, append a zero vector of appropriate dimensions\n",
    "        X_test_vect_avg.append(np.zeros(100, dtype=float))\n"
   ]
  },
  {
   "cell_type": "markdown",
   "id": "d3028b1f",
   "metadata": {},
   "source": [
    "## Random Forest"
   ]
  },
  {
   "cell_type": "code",
   "execution_count": 45,
   "id": "99870560",
   "metadata": {
    "colab": {
     "base_uri": "https://localhost:8080/"
    },
    "id": "99870560",
    "outputId": "bdc8d477-0a26-43d0-92a7-7f89edf9becc"
   },
   "outputs": [
    {
     "name": "stdout",
     "output_type": "stream",
     "text": [
      "0.3952569169960474\n"
     ]
    }
   ],
   "source": [
    "# Implementing Random Forest Classifier on the Word2Vec embedding\n",
    "from sklearn.ensemble import RandomForestClassifier\n",
    "\n",
    "# Instantiate Random Forest Classifier\n",
    "rf = RandomForestClassifier()\n",
    "\n",
    "# Fit the model on the training data\n",
    "rf.fit(X_train_vect_avg, y_train)\n",
    "\n",
    "# Predict on the test data\n",
    "y_pred = rf.predict(X_test_vect_avg)\n",
    "\n",
    "# Calculate accuracy score\n",
    "print(accuracy_score(y_pred, y_test))"
   ]
  },
  {
   "cell_type": "code",
   "execution_count": 46,
   "id": "b2645269",
   "metadata": {
    "colab": {
     "base_uri": "https://localhost:8080/"
    },
    "id": "b2645269",
    "outputId": "f2e0167c-7b0f-4c3e-dfd4-0b4db65c806d"
   },
   "outputs": [
    {
     "name": "stdout",
     "output_type": "stream",
     "text": [
      "0.461133069828722\n"
     ]
    },
    {
     "name": "stderr",
     "output_type": "stream",
     "text": [
      "/opt/homebrew/anaconda3/envs/ameya/lib/python3.11/site-packages/sklearn/linear_model/_logistic.py:460: ConvergenceWarning: lbfgs failed to converge (status=1):\n",
      "STOP: TOTAL NO. of ITERATIONS REACHED LIMIT.\n",
      "\n",
      "Increase the number of iterations (max_iter) or scale the data as shown in:\n",
      "    https://scikit-learn.org/stable/modules/preprocessing.html\n",
      "Please also refer to the documentation for alternative solver options:\n",
      "    https://scikit-learn.org/stable/modules/linear_model.html#logistic-regression\n",
      "  n_iter_i = _check_optimize_result(\n"
     ]
    }
   ],
   "source": [
    "# Implementing Logistic Regression on the Word2Vec embedding\n",
    "from sklearn.linear_model import LogisticRegression\n",
    "\n",
    "# Instantiate Logistic Regression model\n",
    "linear_model = LogisticRegression()\n",
    "\n",
    "# Fit the model on the training data\n",
    "linear_model.fit(X_train_vect_avg, y_train)\n",
    "\n",
    "# Predict on the test data\n",
    "y_pred = linear_model.predict(X_test_vect_avg)\n",
    "\n",
    "# Calculate accuracy score\n",
    "print(accuracy_score(y_pred, y_test))"
   ]
  },
  {
   "cell_type": "markdown",
   "id": "2a7610d8",
   "metadata": {},
   "source": [
    "## TSNE"
   ]
  },
  {
   "cell_type": "code",
   "execution_count": 47,
   "id": "02ef4eb6",
   "metadata": {
    "id": "02ef4eb6"
   },
   "outputs": [],
   "source": [
    "# Implementing TSNE to visualize the Word2Vec embeddings\n",
    "from sklearn.manifold import TSNE\n",
    "import matplotlib.pyplot as plt\n",
    "\n",
    "def tsne_plot(model):\n",
    "    \"Creates a TSNE model and plots it\"\n",
    "    labels = []\n",
    "    tokens = []\n",
    "\n",
    "    for word in model.wv.index_to_key:\n",
    "        tokens.append(model.wv[word])\n",
    "        labels.append(word)\n",
    "    \n",
    "    tsne_model = TSNE(perplexity=40, n_components=2, init='pca', n_iter=2500, random_state=23)\n",
    "    new_values = tsne_model.fit_transform(tokens)\n",
    "\n",
    "    x = []\n",
    "    y = []\n",
    "    for value in new_values:\n",
    "        x.append(value[0])\n",
    "        y.append(value[1])\n",
    "        \n",
    "    plt.figure(figsize=(16, 16)) \n",
    "    for i in range(len(x)):\n",
    "        plt.scatter(x[i], y[i])\n",
    "    plt.show()\n",
    "sid = SentimentIntensityAnalyzer()"
   ]
  },
  {
   "cell_type": "code",
   "execution_count": 50,
   "id": "133192f8",
   "metadata": {
    "id": "133192f8"
   },
   "outputs": [],
   "source": [
    "# Implementing a function to calculate polarity scores given a post\n",
    "def get_polarity(text):\n",
    "    return sid.polarity_scores(text)['compound']\n",
    "\n",
    "# Apply the function to calculate polarity scores for each post and store the result in a new column\n",
    "df['polarity_score'] = df['cleaned_text'].apply(get_polarity)"
   ]
  },
  {
   "cell_type": "code",
   "execution_count": 52,
   "id": "cf577a32",
   "metadata": {
    "colab": {
     "base_uri": "https://localhost:8080/",
     "height": 296
    },
    "id": "cf577a32",
    "outputId": "f9af5b85-653a-41e2-e009-bb8531e398ab"
   },
   "outputs": [
    {
     "data": {
      "text/plain": [
       "<Axes: xlabel='subreddit'>"
      ]
     },
     "execution_count": 52,
     "metadata": {},
     "output_type": "execute_result"
    },
    {
     "data": {
      "image/png": "[encoded data removed]",
      "text/plain": [
       "<Figure size 640x480 with 1 Axes>"
      ]
     },
     "metadata": {},
     "output_type": "display_data"
    }
   ],
   "source": [
    "# Plotting the mean polarity scores among various subreddits\n",
    "df.groupby('subreddit').polarity_score.mean().plot()"
   ]
  },
  {
   "cell_type": "code",
   "execution_count": 53,
   "id": "822abc27",
   "metadata": {
    "colab": {
     "base_uri": "https://localhost:8080/"
    },
    "id": "822abc27",
    "outputId": "406e2ca2-f515-447e-c0f8-35961d2c33b6"
   },
   "outputs": [
    {
     "data": {
      "text/plain": [
       "subreddit\n",
       "Anxiety              -0.246940\n",
       "BPD                  -0.059719\n",
       "CasualConversation    0.508827\n",
       "SuicideWatch         -0.377561\n",
       "bipolar               0.013539\n",
       "depression           -0.210473\n",
       "mentalhealth         -0.137737\n",
       "Name: polarity_score, dtype: float64"
      ]
     },
     "execution_count": 53,
     "metadata": {},
     "output_type": "execute_result"
    }
   ],
   "source": [
    "# Calculating the mean polarity scores among various subreddits\n",
    "mean_polarity_scores = df.groupby('subreddit').polarity_score.mean()\n",
    "\n",
    "# Mean polarity scores for specific subreddits\n",
    "print(\"Mean polarity score for 'CasualConversation':\", mean_polarity_scores['CasualConversation'])\n",
    "print(\"Mean polarity score for 'SuicideWatch':\", mean_polarity_scores['SuicideWatch'])\n",
    "print(\"Mean polarity score for 'Anxiety':\", mean_polarity_scores['Anxiety'])"
   ]
  },
  {
   "cell_type": "code",
   "execution_count": 54,
   "id": "2d0bb2ac",
   "metadata": {
    "colab": {
     "base_uri": "https://localhost:8080/"
    },
    "id": "2d0bb2ac",
    "outputId": "f85df92d-44f5-47f0-e195-93b1a4277721"
   },
   "outputs": [
    {
     "name": "stdout",
     "output_type": "stream",
     "text": [
      "mentalhealth: 987\n",
      "depression: 902\n",
      "Anxiety: 989\n",
      "bipolar: 477\n",
      "BPD: 988\n",
      "SuicideWatch: 926\n",
      "CasualConversation: 800\n"
     ]
    }
   ],
   "source": [
    "# Returning the number of unique elements in each subreddit\n",
    "for subreddit in df['subreddit'].unique():    \n",
    "    print(\"{}: {}\".format(subreddit, len(df[df['subreddit'] == subreddit])))\n",
    "# Removing posts from the 'bipolar' subreddit\n",
    "df = df[df['subreddit'] != \"bipolar\"]"
   ]
  },
  {
   "cell_type": "code",
   "execution_count": 56,
   "id": "f0dd6ee2",
   "metadata": {
    "colab": {
     "base_uri": "https://localhost:8080/",
     "height": 1000
    },
    "id": "f0dd6ee2",
    "outputId": "aad68030-a31c-43f0-ea98-418789e93287"
   },
   "outputs": [
    {
     "data": {
      "image/png": "[encoded data removed]",
      "text/plain": [
       "<Figure size 640x480 with 1 Axes>"
      ]
     },
     "metadata": {},
     "output_type": "display_data"
    },
    {
     "data": {
      "image/png": "[encoded data removed]",
      "text/plain": [
       "<Figure size 640x480 with 1 Axes>"
      ]
     },
     "metadata": {},
     "output_type": "display_data"
    },
    {
     "data": {
      "image/png": "[encoded data removed]",
      "text/plain": [
       "<Figure size 640x480 with 1 Axes>"
      ]
     },
     "metadata": {},
     "output_type": "display_data"
    },
    {
     "data": {
      "image/png": "[encoded data removed]",
      "text/plain": [
       "<Figure size 640x480 with 1 Axes>"
      ]
     },
     "metadata": {},
     "output_type": "display_data"
    },
    {
     "data": {
      "image/png": "[encoded data removed]",
      "text/plain": [
       "<Figure size 640x480 with 1 Axes>"
      ]
     },
     "metadata": {},
     "output_type": "display_data"
    },
    {
     "data": {
      "image/png": "[encoded data removed]",
      "text/plain": [
       "<Figure size 640x480 with 1 Axes>"
      ]
     },
     "metadata": {},
     "output_type": "display_data"
    }
   ],
   "source": [
    "# Plotting the polarity scores for various subreddits\n",
    "import matplotlib.pyplot as plt\n",
    "import seaborn as sns\n",
    "\n",
    "# Iterate over unique subreddits\n",
    "j = 1\n",
    "for subreddit in df['subreddit'].unique():\n",
    "    plt.figure(j)\n",
    "    sns.kdeplot(df[df['subreddit'] == subreddit]['polarity_score'])\n",
    "    plt.title(subreddit)\n",
    "    j += 1"
   ]
  },
  {
   "cell_type": "code",
   "execution_count": null,
   "id": "1e24dc72",
   "metadata": {},
   "outputs": [],
   "source": [
    "get_polarity(\"hello I'm feeling sad\")  # For posts related to feeling sad, it might have negative polarity.\n",
    "\n",
    "get_polarity(\"I'm dying\")  # For posts expressing extreme distress like \"I'm dying\", it's likely to have a very negative polarity.\n",
    "\n",
    "# Function to return a label predicting which subreddit the given sentence might belong to\n",
    "def get_severity(text):\n",
    "    from scipy.stats import gaussian_kde\n",
    "    \n",
    "    severity = \"\"\n",
    "    max_severity = float(\"-inf\")\n",
    "    \n",
    "    # Iterate through unique subreddits\n",
    "    for subreddit in df.subreddit.unique():\n",
    "        # Calculate kernel density estimation for the polarity scores of the subreddit\n",
    "        kde = gaussian_kde(df[df['subreddit'] == subreddit]['polarity_score'].values)\n",
    "        # Evaluate the severity of the given text based on the KDE\n",
    "        sev = kde.evaluate([get_polarity(text)])\n",
    "        \n",
    "        # Update severity label if higher severity is found\n",
    "        if sev > max_severity:\n",
    "            severity = subreddit\n",
    "            max_severity = sev\n",
    "            \n",
    "    return severity"
   ]
  },
  {
   "cell_type": "code",
   "execution_count": 60,
   "id": "80a422d2",
   "metadata": {
    "colab": {
     "base_uri": "https://localhost:8080/",
     "height": 37
    },
    "id": "80a422d2",
    "outputId": "825b4031-64d2-46d7-dd18-d21fef2f73d3"
   },
   "outputs": [
    {
     "data": {
      "text/plain": [
       "'CasualConversation'"
      ]
     },
     "execution_count": 60,
     "metadata": {},
     "output_type": "execute_result"
    }
   ],
   "source": [
    "# Testing with a sample sentence\n",
    "get_severity(\"I'm Happy now\")\n",
    "\n",
    "# Filter posts from specific subreddits\n",
    "filtered = df[df['subreddit'].isin(['CasualConversation', 'depression', 'SuicideWatch'])]"
   ]
  },
  {
   "cell_type": "code",
   "execution_count": 62,
   "id": "933ee0b9",
   "metadata": {
    "colab": {
     "base_uri": "https://localhost:8080/"
    },
    "id": "933ee0b9",
    "outputId": "3b90497a-2650-45f6-8ba0-0abacfe07ad5"
   },
   "outputs": [
    {
     "data": {
      "text/plain": [
       "subreddit\n",
       "CasualConversation    0.508827\n",
       "SuicideWatch         -0.377561\n",
       "depression           -0.210473\n",
       "Name: polarity_score, dtype: float64"
      ]
     },
     "execution_count": 62,
     "metadata": {},
     "output_type": "execute_result"
    }
   ],
   "source": [
    "# Calculate the mean polarity score for each subreddit in the filtered DataFrame\n",
    "filtered.groupby('subreddit').polarity_score.mean()"
   ]
  },
  {
   "cell_type": "code",
   "execution_count": 63,
   "id": "0bb4eedc",
   "metadata": {
    "colab": {
     "base_uri": "https://localhost:8080/"
    },
    "id": "0bb4eedc",
    "outputId": "e92189e7-62b3-44f1-c404-f969af04cfe2"
   },
   "outputs": [
    {
     "name": "stdout",
     "output_type": "stream",
     "text": [
      "C-value 0.01 and accuracy : 0.3333333333333333\n",
      "C-value 0.1 and accuracy : 0.7092846270928462\n",
      "C-value 0.5 and accuracy : 0.7123287671232876\n",
      "C-value 1 and accuracy : 0.7047184170471842\n",
      "C-value 2 and accuracy : 0.6925418569254186\n",
      "C-value 3 and accuracy : 0.6940639269406392\n",
      "C-value 4 and accuracy : 0.6971080669710806\n",
      "C-value 5 and accuracy : 0.6894977168949772\n"
     ]
    },
    {
     "name": "stderr",
     "output_type": "stream",
     "text": [
      "/opt/homebrew/anaconda3/envs/ameya/lib/python3.11/site-packages/sklearn/linear_model/_logistic.py:460: ConvergenceWarning: lbfgs failed to converge (status=1):\n",
      "STOP: TOTAL NO. of ITERATIONS REACHED LIMIT.\n",
      "\n",
      "Increase the number of iterations (max_iter) or scale the data as shown in:\n",
      "    https://scikit-learn.org/stable/modules/preprocessing.html\n",
      "Please also refer to the documentation for alternative solver options:\n",
      "    https://scikit-learn.org/stable/modules/linear_model.html#logistic-regression\n",
      "  n_iter_i = _check_optimize_result(\n"
     ]
    }
   ],
   "source": [
    "# Implementing Logistic regression on cleaned text improved the results significantly\n",
    "from sklearn.linear_model import LogisticRegression\n",
    "from sklearn.feature_extraction.text import TfidfVectorizer\n",
    "\n",
    "# Instantiate TF-IDF Vectorizer\n",
    "tfidf = TfidfVectorizer()\n",
    "\n",
    "# Convert text data into TF-IDF vectors\n",
    "X = tfidf.fit_transform(filtered['cleaned_text'])\n",
    "y = filtered[\"subreddit_labels\"]\n",
    "\n",
    "# Split the data into training and testing sets\n",
    "X_train, X_test, y_train, y_test = train_test_split(X, filtered[\"subreddit_labels\"])\n",
    "\n",
    "# Iterate through different values of C for Logistic Regression\n",
    "for c_value in [0.01, 0.1, 0.5, 1, 2, 3, 4, 5]:\n",
    "    # Instantiate Logistic Regression model with specified C value\n",
    "    model = LogisticRegression(C=c_value)\n",
    "    \n",
    "    # Fit the model on the training data\n",
    "    model.fit(X_train, y_train)\n",
    "    \n",
    "    # Predict on the test data\n",
    "    y_pred = model.predict(X_test)\n",
    "    \n",
    "    # Print the accuracy score for the current C value\n",
    "    print(f\"C-value {c_value} and accuracy : {accuracy_score(y_pred, y_test)}\")"
   ]
  },
  {
   "cell_type": "markdown",
   "id": "b817fe68",
   "metadata": {},
   "source": [
    "## Support Vector Classifier"
   ]
  },
  {
   "cell_type": "code",
   "execution_count": 64,
   "id": "9f5b3d0d",
   "metadata": {
    "colab": {
     "base_uri": "https://localhost:8080/"
    },
    "id": "9f5b3d0d",
    "outputId": "29c4f9a1-219b-4e97-b6b2-4e48afd06269"
   },
   "outputs": [
    {
     "name": "stdout",
     "output_type": "stream",
     "text": [
      "C - Value: 0.01 and accuracy : 0.3226788432267884\n",
      "C - Value: 0.1 and accuracy : 0.3226788432267884\n",
      "C - Value: 0.5 and accuracy : 0.7092846270928462\n",
      "C - Value: 1 and accuracy : 0.715372907153729\n",
      "C - Value: 2 and accuracy : 0.6986301369863014\n",
      "C - Value: 3 and accuracy : 0.700152207001522\n",
      "C - Value: 4 and accuracy : 0.6971080669710806\n",
      "C - Value: 5 and accuracy : 0.69558599695586\n"
     ]
    }
   ],
   "source": [
    "# Implementing Support Vector Classifier\n",
    "from sklearn.svm import SVC\n",
    "\n",
    "# Iterate through different values of C for Support Vector Classifier\n",
    "for c_value in [0.01, 0.1, 0.5, 1, 2, 3, 4, 5]:\n",
    "    # Instantiate Support Vector Classifier with specified C value\n",
    "    model = SVC(C=c_value)\n",
    "    \n",
    "    # Fit the model on the training data\n",
    "    model.fit(X_train, y_train)\n",
    "    \n",
    "    # Predict on the test data\n",
    "    y_pred = model.predict(X_test)\n",
    "    \n",
    "    # Print the accuracy score for the current C value\n",
    "    print(f\"C - Value: {c_value} and accuracy : {accuracy_score(y_pred, y_test)}\")"
   ]
  },
  {
   "cell_type": "code",
   "execution_count": 65,
   "id": "d5acf7ff",
   "metadata": {
    "colab": {
     "base_uri": "https://localhost:8080/"
    },
    "id": "d5acf7ff",
    "outputId": "59bd1474-2f2b-4c9d-e8ed-26d5bab0bbc3"
   },
   "outputs": [
    {
     "name": "stdout",
     "output_type": "stream",
     "text": [
      "N-Estimators: 100 and accuracy : 0.6986301369863014\n",
      "N-Estimators: 200 and accuracy : 0.7336377473363774\n",
      "N-Estimators: 300 and accuracy : 0.7427701674277016\n",
      "N-Estimators: 400 and accuracy : 0.7214611872146118\n",
      "N-Estimators: 500 and accuracy : 0.7290715372907154\n",
      "N-Estimators: 1000 and accuracy : 0.7275494672754946\n"
     ]
    }
   ],
   "source": [
    "# Implementing Random Forest Classifier\n",
    "from sklearn.ensemble import RandomForestClassifier\n",
    "\n",
    "# Iterate through different values of n_estimators for Random Forest Classifier\n",
    "for n_estimators_value in [100, 200, 300, 400, 500, 1000]:\n",
    "    # Instantiate Random Forest Classifier with specified n_estimators value\n",
    "    model = RandomForestClassifier(n_estimators=n_estimators_value)\n",
    "    \n",
    "    # Fit the model on the training data\n",
    "    model.fit(X_train, y_train)\n",
    "    \n",
    "    # Predict on the test data\n",
    "    y_pred = model.predict(X_test)\n",
    "    \n",
    "    # Print the accuracy score for the current n_estimators value\n",
    "    print(f\"N-Estimators: {n_estimators_value} and accuracy : {accuracy_score(y_pred, y_test)}\")"
   ]
  },
  {
   "cell_type": "code",
   "execution_count": 66,
   "id": "6c2e0644",
   "metadata": {
    "colab": {
     "base_uri": "https://localhost:8080/"
    },
    "id": "6c2e0644",
    "outputId": "3a637a51-b518-4eb5-b8f4-21d6aaab5da3"
   },
   "outputs": [
    {
     "name": "stdout",
     "output_type": "stream",
     "text": [
      "              precision    recall  f1-score   support\n",
      "\n",
      "           3       0.82      0.60      0.70       288\n",
      "           4       0.54      0.73      0.62       172\n",
      "           5       0.84      0.91      0.87       197\n",
      "\n",
      "    accuracy                           0.73       657\n",
      "   macro avg       0.73      0.75      0.73       657\n",
      "weighted avg       0.75      0.73      0.73       657\n",
      "\n"
     ]
    }
   ],
   "source": [
    "# Printing out the Classification report for the Random Forest Model\n",
    "from sklearn.metrics import classification_report\n",
    "\n",
    "print(classification_report(y_pred, y_test))"
   ]
  },
  {
   "cell_type": "code",
   "execution_count": 67,
   "id": "599e61d7",
   "metadata": {
    "id": "599e61d7"
   },
   "outputs": [],
   "source": [
    "# Performing Train-test split\n",
    "y = filtered[\"subreddit_labels\"]\n",
    "X_train, X_test, y_train, y_test = train_test_split(filtered['cleaned_text'].str.split(\" \"), y)\n",
    "# Loading the pre-processed data which was stored in a csv file\n",
    "df = pd.read_csv(\"data_preprocessed.csv\")"
   ]
  },
  {
   "cell_type": "code",
   "execution_count": 69,
   "id": "2a572125",
   "metadata": {},
   "outputs": [
    {
     "data": {
      "text/plain": [
       "Index(['Unnamed: 0', 'subreddit', 'url', 'cleaned_text'], dtype='object')"
      ]
     },
     "execution_count": 69,
     "metadata": {},
     "output_type": "execute_result"
    }
   ],
   "source": [
    "df.columns"
   ]
  },
  {
   "cell_type": "code",
   "execution_count": 70,
   "id": "31d807c1",
   "metadata": {
    "id": "31d807c1"
   },
   "outputs": [],
   "source": [
    "topics = []\n",
    "for i in range(len(df)):\n",
    "    if len(df[\"url\"].iloc[i].split(\"/\")) > 4:\n",
    "        topics.append(df[\"url\"].iloc[i].split(\"/\")[4])\n",
    "    else:\n",
    "        topics.append(df[\"url\"].iloc[i].split(\"/\")[2])"
   ]
  },
  {
   "cell_type": "code",
   "execution_count": 72,
   "id": "620f2293",
   "metadata": {},
   "outputs": [
    {
     "data": {
      "text/html": [
       "<div>\n",
       "<style scoped>\n",
       "    .dataframe tbody tr th:only-of-type {\n",
       "        vertical-align: middle;\n",
       "    }\n",
       "\n",
       "    .dataframe tbody tr th {\n",
       "        vertical-align: top;\n",
       "    }\n",
       "\n",
       "    .dataframe thead th {\n",
       "        text-align: right;\n",
       "    }\n",
       "</style>\n",
       "<table border=\"1\" class=\"dataframe\">\n",
       "  <thead>\n",
       "    <tr style=\"text-align: right;\">\n",
       "      <th></th>\n",
       "      <th>Unnamed: 0</th>\n",
       "      <th>subreddit</th>\n",
       "      <th>url</th>\n",
       "      <th>cleaned_text</th>\n",
       "      <th>Topics</th>\n",
       "    </tr>\n",
       "  </thead>\n",
       "  <tbody>\n",
       "    <tr>\n",
       "      <th>0</th>\n",
       "      <td>0</td>\n",
       "      <td>mentalhealth</td>\n",
       "      <td>https://www.reddit.com/r/mentalhealth/comments...</td>\n",
       "      <td>craving closeness year ago got relationship la...</td>\n",
       "      <td>mentalhealth</td>\n",
       "    </tr>\n",
       "    <tr>\n",
       "      <th>1</th>\n",
       "      <td>1</td>\n",
       "      <td>mentalhealth</td>\n",
       "      <td>https://www.reddit.com/r/mentalhealth/comments...</td>\n",
       "      <td>mental health class think school mandatory men...</td>\n",
       "      <td>mentalhealth</td>\n",
       "    </tr>\n",
       "    <tr>\n",
       "      <th>2</th>\n",
       "      <td>2</td>\n",
       "      <td>mentalhealth</td>\n",
       "      <td>https://www.reddit.com/r/mentalhealth/comments...</td>\n",
       "      <td>7yo son accidentally fell pet bird killed 11 y...</td>\n",
       "      <td>mentalhealth</td>\n",
       "    </tr>\n",
       "    <tr>\n",
       "      <th>3</th>\n",
       "      <td>3</td>\n",
       "      <td>mentalhealth</td>\n",
       "      <td>https://www.reddit.com/r/mentalhealth/comments...</td>\n",
       "      <td>else want covid world leave mental health bad ...</td>\n",
       "      <td>mentalhealth</td>\n",
       "    </tr>\n",
       "    <tr>\n",
       "      <th>4</th>\n",
       "      <td>4</td>\n",
       "      <td>mentalhealth</td>\n",
       "      <td>https://www.reddit.com/r/mentalhealth/comments...</td>\n",
       "      <td>mental health suffering due controlling toxic ...</td>\n",
       "      <td>mentalhealth</td>\n",
       "    </tr>\n",
       "    <tr>\n",
       "      <th>...</th>\n",
       "      <td>...</td>\n",
       "      <td>...</td>\n",
       "      <td>...</td>\n",
       "      <td>...</td>\n",
       "      <td>...</td>\n",
       "    </tr>\n",
       "    <tr>\n",
       "      <th>6064</th>\n",
       "      <td>6229</td>\n",
       "      <td>CasualConversation</td>\n",
       "      <td>https://www.reddit.com/r/CasualConversation/co...</td>\n",
       "      <td>teacher problem accidentally text parent child...</td>\n",
       "      <td>CasualConversation</td>\n",
       "    </tr>\n",
       "    <tr>\n",
       "      <th>6065</th>\n",
       "      <td>6230</td>\n",
       "      <td>CasualConversation</td>\n",
       "      <td>https://www.reddit.com/r/CasualConversation/co...</td>\n",
       "      <td>painted nail feel weird distracting got done f...</td>\n",
       "      <td>CasualConversation</td>\n",
       "    </tr>\n",
       "    <tr>\n",
       "      <th>6066</th>\n",
       "      <td>6231</td>\n",
       "      <td>CasualConversation</td>\n",
       "      <td>https://www.reddit.com/r/CasualConversation/co...</td>\n",
       "      <td>first time watching traininy day never seen al...</td>\n",
       "      <td>CasualConversation</td>\n",
       "    </tr>\n",
       "    <tr>\n",
       "      <th>6067</th>\n",
       "      <td>6232</td>\n",
       "      <td>CasualConversation</td>\n",
       "      <td>https://www.reddit.com/r/CasualConversation/co...</td>\n",
       "      <td>taking bra night wear one day best feeling eve...</td>\n",
       "      <td>CasualConversation</td>\n",
       "    </tr>\n",
       "    <tr>\n",
       "      <th>6068</th>\n",
       "      <td>6233</td>\n",
       "      <td>CasualConversation</td>\n",
       "      <td>https://www.reddit.com/r/CasualConversation/co...</td>\n",
       "      <td>started working blog need feedback think long ...</td>\n",
       "      <td>CasualConversation</td>\n",
       "    </tr>\n",
       "  </tbody>\n",
       "</table>\n",
       "<p>6069 rows × 5 columns</p>\n",
       "</div>"
      ],
      "text/plain": [
       "      Unnamed: 0           subreddit  \\\n",
       "0              0        mentalhealth   \n",
       "1              1        mentalhealth   \n",
       "2              2        mentalhealth   \n",
       "3              3        mentalhealth   \n",
       "4              4        mentalhealth   \n",
       "...          ...                 ...   \n",
       "6064        6229  CasualConversation   \n",
       "6065        6230  CasualConversation   \n",
       "6066        6231  CasualConversation   \n",
       "6067        6232  CasualConversation   \n",
       "6068        6233  CasualConversation   \n",
       "\n",
       "                                                    url  \\\n",
       "0     https://www.reddit.com/r/mentalhealth/comments...   \n",
       "1     https://www.reddit.com/r/mentalhealth/comments...   \n",
       "2     https://www.reddit.com/r/mentalhealth/comments...   \n",
       "3     https://www.reddit.com/r/mentalhealth/comments...   \n",
       "4     https://www.reddit.com/r/mentalhealth/comments...   \n",
       "...                                                 ...   \n",
       "6064  https://www.reddit.com/r/CasualConversation/co...   \n",
       "6065  https://www.reddit.com/r/CasualConversation/co...   \n",
       "6066  https://www.reddit.com/r/CasualConversation/co...   \n",
       "6067  https://www.reddit.com/r/CasualConversation/co...   \n",
       "6068  https://www.reddit.com/r/CasualConversation/co...   \n",
       "\n",
       "                                           cleaned_text              Topics  \n",
       "0     craving closeness year ago got relationship la...        mentalhealth  \n",
       "1     mental health class think school mandatory men...        mentalhealth  \n",
       "2     7yo son accidentally fell pet bird killed 11 y...        mentalhealth  \n",
       "3     else want covid world leave mental health bad ...        mentalhealth  \n",
       "4     mental health suffering due controlling toxic ...        mentalhealth  \n",
       "...                                                 ...                 ...  \n",
       "6064  teacher problem accidentally text parent child...  CasualConversation  \n",
       "6065  painted nail feel weird distracting got done f...  CasualConversation  \n",
       "6066  first time watching traininy day never seen al...  CasualConversation  \n",
       "6067  taking bra night wear one day best feeling eve...  CasualConversation  \n",
       "6068  started working blog need feedback think long ...  CasualConversation  \n",
       "\n",
       "[6069 rows x 5 columns]"
      ]
     },
     "execution_count": 72,
     "metadata": {},
     "output_type": "execute_result"
    }
   ],
   "source": [
    "df[\"Topics\"] = topics\n",
    "df"
   ]
  },
  {
   "cell_type": "code",
   "execution_count": 73,
   "id": "902127b3",
   "metadata": {
    "colab": {
     "base_uri": "https://localhost:8080/",
     "height": 419
    },
    "id": "902127b3",
    "outputId": "740daed6-3d36-4f63-93a3-8e6c073ed3bb"
   },
   "outputs": [
    {
     "data": {
      "text/html": [
       "<div>\n",
       "<style scoped>\n",
       "    .dataframe tbody tr th:only-of-type {\n",
       "        vertical-align: middle;\n",
       "    }\n",
       "\n",
       "    .dataframe tbody tr th {\n",
       "        vertical-align: top;\n",
       "    }\n",
       "\n",
       "    .dataframe thead th {\n",
       "        text-align: right;\n",
       "    }\n",
       "</style>\n",
       "<table border=\"1\" class=\"dataframe\">\n",
       "  <thead>\n",
       "    <tr style=\"text-align: right;\">\n",
       "      <th></th>\n",
       "      <th>Unnamed: 0</th>\n",
       "      <th>subreddit</th>\n",
       "      <th>url</th>\n",
       "      <th>cleaned_text</th>\n",
       "      <th>Topics</th>\n",
       "    </tr>\n",
       "  </thead>\n",
       "  <tbody>\n",
       "    <tr>\n",
       "      <th>0</th>\n",
       "      <td>0</td>\n",
       "      <td>mentalhealth</td>\n",
       "      <td>https://www.reddit.com/r/mentalhealth/comments...</td>\n",
       "      <td>craving closeness year ago got relationship la...</td>\n",
       "      <td>mentalhealth</td>\n",
       "    </tr>\n",
       "    <tr>\n",
       "      <th>1</th>\n",
       "      <td>1</td>\n",
       "      <td>mentalhealth</td>\n",
       "      <td>https://www.reddit.com/r/mentalhealth/comments...</td>\n",
       "      <td>mental health class think school mandatory men...</td>\n",
       "      <td>mentalhealth</td>\n",
       "    </tr>\n",
       "    <tr>\n",
       "      <th>2</th>\n",
       "      <td>2</td>\n",
       "      <td>mentalhealth</td>\n",
       "      <td>https://www.reddit.com/r/mentalhealth/comments...</td>\n",
       "      <td>7yo son accidentally fell pet bird killed 11 y...</td>\n",
       "      <td>mentalhealth</td>\n",
       "    </tr>\n",
       "    <tr>\n",
       "      <th>3</th>\n",
       "      <td>3</td>\n",
       "      <td>mentalhealth</td>\n",
       "      <td>https://www.reddit.com/r/mentalhealth/comments...</td>\n",
       "      <td>else want covid world leave mental health bad ...</td>\n",
       "      <td>mentalhealth</td>\n",
       "    </tr>\n",
       "    <tr>\n",
       "      <th>4</th>\n",
       "      <td>4</td>\n",
       "      <td>mentalhealth</td>\n",
       "      <td>https://www.reddit.com/r/mentalhealth/comments...</td>\n",
       "      <td>mental health suffering due controlling toxic ...</td>\n",
       "      <td>mentalhealth</td>\n",
       "    </tr>\n",
       "    <tr>\n",
       "      <th>...</th>\n",
       "      <td>...</td>\n",
       "      <td>...</td>\n",
       "      <td>...</td>\n",
       "      <td>...</td>\n",
       "      <td>...</td>\n",
       "    </tr>\n",
       "    <tr>\n",
       "      <th>6064</th>\n",
       "      <td>6229</td>\n",
       "      <td>CasualConversation</td>\n",
       "      <td>https://www.reddit.com/r/CasualConversation/co...</td>\n",
       "      <td>teacher problem accidentally text parent child...</td>\n",
       "      <td>CasualConversation</td>\n",
       "    </tr>\n",
       "    <tr>\n",
       "      <th>6065</th>\n",
       "      <td>6230</td>\n",
       "      <td>CasualConversation</td>\n",
       "      <td>https://www.reddit.com/r/CasualConversation/co...</td>\n",
       "      <td>painted nail feel weird distracting got done f...</td>\n",
       "      <td>CasualConversation</td>\n",
       "    </tr>\n",
       "    <tr>\n",
       "      <th>6066</th>\n",
       "      <td>6231</td>\n",
       "      <td>CasualConversation</td>\n",
       "      <td>https://www.reddit.com/r/CasualConversation/co...</td>\n",
       "      <td>first time watching traininy day never seen al...</td>\n",
       "      <td>CasualConversation</td>\n",
       "    </tr>\n",
       "    <tr>\n",
       "      <th>6067</th>\n",
       "      <td>6232</td>\n",
       "      <td>CasualConversation</td>\n",
       "      <td>https://www.reddit.com/r/CasualConversation/co...</td>\n",
       "      <td>taking bra night wear one day best feeling eve...</td>\n",
       "      <td>CasualConversation</td>\n",
       "    </tr>\n",
       "    <tr>\n",
       "      <th>6068</th>\n",
       "      <td>6233</td>\n",
       "      <td>CasualConversation</td>\n",
       "      <td>https://www.reddit.com/r/CasualConversation/co...</td>\n",
       "      <td>started working blog need feedback think long ...</td>\n",
       "      <td>CasualConversation</td>\n",
       "    </tr>\n",
       "  </tbody>\n",
       "</table>\n",
       "<p>6069 rows × 5 columns</p>\n",
       "</div>"
      ],
      "text/plain": [
       "      Unnamed: 0           subreddit  \\\n",
       "0              0        mentalhealth   \n",
       "1              1        mentalhealth   \n",
       "2              2        mentalhealth   \n",
       "3              3        mentalhealth   \n",
       "4              4        mentalhealth   \n",
       "...          ...                 ...   \n",
       "6064        6229  CasualConversation   \n",
       "6065        6230  CasualConversation   \n",
       "6066        6231  CasualConversation   \n",
       "6067        6232  CasualConversation   \n",
       "6068        6233  CasualConversation   \n",
       "\n",
       "                                                    url  \\\n",
       "0     https://www.reddit.com/r/mentalhealth/comments...   \n",
       "1     https://www.reddit.com/r/mentalhealth/comments...   \n",
       "2     https://www.reddit.com/r/mentalhealth/comments...   \n",
       "3     https://www.reddit.com/r/mentalhealth/comments...   \n",
       "4     https://www.reddit.com/r/mentalhealth/comments...   \n",
       "...                                                 ...   \n",
       "6064  https://www.reddit.com/r/CasualConversation/co...   \n",
       "6065  https://www.reddit.com/r/CasualConversation/co...   \n",
       "6066  https://www.reddit.com/r/CasualConversation/co...   \n",
       "6067  https://www.reddit.com/r/CasualConversation/co...   \n",
       "6068  https://www.reddit.com/r/CasualConversation/co...   \n",
       "\n",
       "                                           cleaned_text              Topics  \n",
       "0     craving closeness year ago got relationship la...        mentalhealth  \n",
       "1     mental health class think school mandatory men...        mentalhealth  \n",
       "2     7yo son accidentally fell pet bird killed 11 y...        mentalhealth  \n",
       "3     else want covid world leave mental health bad ...        mentalhealth  \n",
       "4     mental health suffering due controlling toxic ...        mentalhealth  \n",
       "...                                                 ...                 ...  \n",
       "6064  teacher problem accidentally text parent child...  CasualConversation  \n",
       "6065  painted nail feel weird distracting got done f...  CasualConversation  \n",
       "6066  first time watching traininy day never seen al...  CasualConversation  \n",
       "6067  taking bra night wear one day best feeling eve...  CasualConversation  \n",
       "6068  started working blog need feedback think long ...  CasualConversation  \n",
       "\n",
       "[6069 rows x 5 columns]"
      ]
     },
     "execution_count": 73,
     "metadata": {},
     "output_type": "execute_result"
    }
   ],
   "source": [
    "df"
   ]
  },
  {
   "cell_type": "code",
   "execution_count": 76,
   "id": "f3ec1054",
   "metadata": {
    "colab": {
     "base_uri": "https://localhost:8080/"
    },
    "id": "f3ec1054",
    "outputId": "a96a01a6-a285-4afd-83b8-aba0d141a105"
   },
   "outputs": [
    {
     "data": {
      "text/plain": [
       "5"
      ]
     },
     "execution_count": 76,
     "metadata": {},
     "output_type": "execute_result"
    }
   ],
   "source": [
    "# Drop the 'Unnamed: 0' column\n",
    "df = df.drop(columns=[\"Unnamed: 0\"])\n",
    "\n",
    "# Extract the 'cleaned_text' column for further processing\n",
    "df_req = df[\"cleaned_text\"]\n",
    "\n",
    "print(df_req.isnull().sum())\n",
    "\n",
    "# Drop rows with missing values in the 'cleaned_text' column\n",
    "df_req = df_req.dropna()"
   ]
  },
  {
   "cell_type": "code",
   "execution_count": 113,
   "id": "e84cdaa0",
   "metadata": {
    "id": "e84cdaa0"
   },
   "outputs": [],
   "source": [
    "# Forming bigrams from the sentence for further analysis\n",
    "import gensim\n",
    "\n",
    "def bigrams(words, bi_min=15, tri_min=10):\n",
    "    \"\"\"\n",
    "    Form bigrams from a list of words.\n",
    "\n",
    "    Args:\n",
    "    words (list): List of words.\n",
    "    bi_min (int): Minimum frequency threshold for bigrams.\n",
    "    tri_min (int): Minimum frequency threshold for trigrams.\n",
    "\n",
    "    Returns:\n",
    "    gensim.models.phrases.Phraser: Bigram model.\n",
    "    \"\"\"\n",
    "    bigram = gensim.models.Phrases(words, min_count=bi_min)\n",
    "    bigram_mod = gensim.models.phrases.Phraser(bigram)\n",
    "    return bigram_mod\n",
    "\n",
    "def sent_to_words(sentences):\n",
    "    \"\"\"\n",
    "    Tokenize sentences into words.\n",
    "\n",
    "    Args:\n",
    "    sentences (list): List of sentences.\n",
    "\n",
    "    Yields:\n",
    "    list: List of words for each sentence.\n",
    "    \"\"\"\n",
    "    for sentence in sentences:\n",
    "        yield(gensim.utils.simple_preprocess(str(sentence), deacc=True))\n",
    "\n",
    "def get_corpus(df):\n",
    "    \"\"\"\n",
    "    Get corpus, id2word mapping, and bigram model.\n",
    "\n",
    "    Args:\n",
    "    df (DataFrame): Input DataFrame containing text data.\n",
    "\n",
    "    Returns:\n",
    "    tuple: Corpus, id2word mapping, and bigram model.\n",
    "    \"\"\"\n",
    "    words = list(sent_to_words(df))\n",
    "    bigram_mod = bigrams(words)\n",
    "    bigram = [bigram_mod[review] for review in words]\n",
    "    id2word = gensim.corpora.Dictionary(bigram)\n",
    "    id2word.filter_extremes(no_below=10, no_above=0.35)\n",
    "    id2word.compactify()\n",
    "    corpus = [id2word.doc2bow(text) for text in bigram]\n",
    "    return corpus, id2word, bigram\n",
    "\n",
    "# Extracting the 'cleaned_text' column from the DataFrame\n",
    "df_req = df[\"cleaned_text\"]\n",
    "\n",
    "# Generating corpus, id2word mapping, and bigram model for the 'cleaned_text' column\n",
    "corpus_req, id2word_req, bigram_req = get_corpus(df_req)"
   ]
  },
  {
   "cell_type": "markdown",
   "id": "e9665496",
   "metadata": {},
   "source": [
    "## Latent Dirichlet Allocation"
   ]
  },
  {
   "cell_type": "code",
   "execution_count": 82,
   "id": "25093daa",
   "metadata": {
    "colab": {
     "base_uri": "https://localhost:8080/"
    },
    "id": "25093daa",
    "outputId": "d5f8b21e-c933-44ce-85e6-a69c745fb84e"
   },
   "outputs": [
    {
     "data": {
      "text/plain": [
       "[(0,\n",
       "  '0.010*\"life\" + 0.009*\"time\" + 0.008*\"thing\" + 0.008*\"day\" + 0.008*\"really\" + 0.007*\"feel_like\" + 0.007*\"anxiety\" + 0.006*\"going\" + 0.006*\"even\" + 0.006*\"one\" + 0.006*\"think\" + 0.006*\"work\" + 0.006*\"would\" + 0.005*\"go\" + 0.005*\"feeling\" + 0.005*\"much\" + 0.005*\"help\" + 0.005*\"something\" + 0.005*\"make\" + 0.005*\"thought\"'),\n",
       " (1,\n",
       "  '0.012*\"people\" + 0.009*\"really\" + 0.009*\"friend\" + 0.009*\"thing\" + 0.008*\"would\" + 0.008*\"one\" + 0.008*\"even\" + 0.007*\"time\" + 0.007*\"think\" + 0.006*\"life\" + 0.006*\"make\" + 0.006*\"never\" + 0.006*\"feel_like\" + 0.005*\"way\" + 0.005*\"say\" + 0.005*\"much\" + 0.005*\"love\" + 0.005*\"someone\" + 0.005*\"always\" + 0.004*\"see\"')]"
      ]
     },
     "execution_count": 82,
     "metadata": {},
     "output_type": "execute_result"
    }
   ],
   "source": [
    "# Implementing Linear Dirichlet Allocation to find keywords within each topic\n",
    "chunk_size = len(corpus_req) * (10/200)\n",
    "lda_model = gensim.models.ldamulticore.LdaMulticore(num_topics=2, \n",
    "                                       corpus=corpus_req, \n",
    "                                       id2word=id2word_req, \n",
    "                                       passes=10, \n",
    "                                       workers= 10,\n",
    "                                       chunksize=chunk_size,\n",
    "                                       alpha=0.5, \n",
    "                                       random_state=42,\n",
    "                                       eval_every=1,\n",
    "                                       per_word_topics=True)\n",
    "\n",
    "lda_model.print_topics(10, num_words=10)"
   ]
  },
  {
   "cell_type": "code",
   "execution_count": 84,
   "id": "4e0ed928",
   "metadata": {
    "colab": {
     "base_uri": "https://localhost:8080/"
    },
    "id": "4e0ed928",
    "outputId": "920a9b92-557d-4108-9875-9f1f8647523a"
   },
   "outputs": [
    {
     "name": "stdout",
     "output_type": "stream",
     "text": [
      "1 \"life\", \"time\", \"thing\", \"day\", \"really\", \"feel_like\", \"anxiety\", \"going\", \"even\", \"one\", \"think\", \"work\", \"would\", \"go\", \"feeling\", \"much\", \"help\", \"something\", \"make\", \"thought\"\n",
      "2 \"people\", \"really\", \"friend\", \"thing\", \"would\", \"one\", \"even\", \"time\", \"think\", \"life\", \"make\", \"never\", \"feel_like\", \"way\", \"say\", \"much\", \"love\", \"someone\", \"always\", \"see\"\n"
     ]
    }
   ],
   "source": [
    "import regex as re\n",
    "\n",
    "# Get the topic distributions for all documents in the corpus\n",
    "model_out = lda_model[corpus_req]\n",
    "\n",
    "# Define regex pattern to remove useless formatting\n",
    "topic_sep = re.compile(\"0\\.[0-9]{3}\\*\")\n",
    "\n",
    "# Extract a list of tuples with topic number and descriptors from the model\n",
    "model_topics = [(topic_no, re.sub(topic_sep, '', model_topic).split(' + ')) \n",
    "                for topic_no, model_topic in\n",
    "                lda_model.print_topics(num_topics=2, num_words=20)]\n",
    "\n",
    "# Initialize empty lists and dictionaries to store descriptors and topic descriptors\n",
    "descriptors = []\n",
    "cor_dic = {}\n",
    "\n",
    "# Extract descriptors and store them in descriptors list and cor_dic dictionary\n",
    "for i, m in model_topics:\n",
    "    print(i+1, \", \".join(m[:20]))\n",
    "    descriptors.append(\", \".join(m[:20]).replace('\"', ''))\n",
    "    cor_dic[i+1] = m"
   ]
  },
  {
   "cell_type": "code",
   "execution_count": 88,
   "id": "d53f9163",
   "metadata": {
    "id": "d53f9163"
   },
   "outputs": [],
   "source": [
    "import random\n",
    "import gensim\n",
    "from gensim.models.phrases import Phrases, Phraser\n",
    "from gensim import corpora, models\n",
    "import regex as re\n",
    "\n",
    "def generate_topics(num_topics, df=df[\"cleaned_text\"].copy()):\n",
    "    \"\"\"\n",
    "    Generate topics from the given text data using Latent Dirichlet Allocation (LDA) model.\n",
    "\n",
    "    Args:\n",
    "    num_topics (int): Number of topics to generate.\n",
    "    df (DataFrame): DataFrame containing text data.\n",
    "\n",
    "    Returns:\n",
    "    list: List of tuples containing topic number and descriptors.\n",
    "    \"\"\"\n",
    "    def bigrams(words, bi_min=15, tri_min=10):\n",
    "        \"\"\"\n",
    "        Form bigrams from a list of words.\n",
    "\n",
    "        Args:\n",
    "        words (list): List of words.\n",
    "        bi_min (int): Minimum frequency threshold for bigrams.\n",
    "        tri_min (int): Minimum frequency threshold for trigrams.\n",
    "\n",
    "        Returns:\n",
    "        gensim.models.phrases.Phraser: Bigram model.\n",
    "        \"\"\"\n",
    "        bigram = gensim.models.Phrases(words, min_count=bi_min)\n",
    "        bigram_mod = gensim.models.phrases.Phraser(bigram)\n",
    "        return bigram_mod\n",
    "\n",
    "    def sent_to_words(sentences):\n",
    "        \"\"\"\n",
    "        Tokenize sentences into words.\n",
    "\n",
    "        Args:\n",
    "        sentences (list): List of sentences.\n",
    "\n",
    "        Yields:\n",
    "        list: List of words for each sentence.\n",
    "        \"\"\"\n",
    "        for sentence in sentences:\n",
    "            yield(gensim.utils.simple_preprocess(str(sentence), deacc=True))\n",
    "\n",
    "    def get_corpus(df):\n",
    "        \"\"\"\n",
    "        Get corpus, id2word mapping, and bigram model.\n",
    "\n",
    "        Args:\n",
    "        df (DataFrame): Input DataFrame containing text data.\n",
    "\n",
    "        Returns:\n",
    "        tuple: Corpus, id2word mapping, and bigram model.\n",
    "        \"\"\"\n",
    "        words = list(sent_to_words(df))\n",
    "        bigram_mod = bigrams(words)\n",
    "        bigram = [bigram_mod[review] for review in words]\n",
    "        id2word = gensim.corpora.Dictionary(bigram)\n",
    "        id2word.filter_extremes(no_below=10, no_above=0.35)\n",
    "        id2word.compactify()\n",
    "        corpus = [id2word.doc2bow(text) for text in bigram]\n",
    "        return corpus, id2word, bigram\n",
    "    \n",
    "    # Generate corpus, id2word mapping, and bigram model\n",
    "    corpus_req, id2word_req, bigram_req = get_corpus(df)\n",
    "    \n",
    "    # Train LDA model\n",
    "    lda_train = gensim.models.ldamulticore.LdaMulticore(\n",
    "                       corpus=corpus_req,\n",
    "                       num_topics=num_topics,\n",
    "                       id2word=id2word_req,\n",
    "                       chunksize=100,\n",
    "                       workers=9, \n",
    "                       passes=50,\n",
    "                       eval_every=1,\n",
    "                       per_word_topics=True)\n",
    "\n",
    "    # Transform the data into topic distributions\n",
    "    topic_corpus = lda_train[corpus_req]\n",
    "\n",
    "    # Get the topic descriptions\n",
    "    topic_sep = re.compile(\"0\\.[0-9]{3}\\*\")  # getting rid of useless formatting\n",
    "    # Extract a list of tuples with topic number and descriptors from the model\n",
    "    model_topics = [(topic_no, re.sub(topic_sep, '', model_topic).split(' + ')) \n",
    "                    for topic_no, model_topic in\n",
    "                    lda_train.print_topics(num_topics=num_topics, num_words=20)]\n",
    "\n",
    "    descriptors = []\n",
    "    for i, m in model_topics:\n",
    "        print(i + 1, \", \".join(m[:10]))\n",
    "        descriptors.append(\", \".join(m[:10]).replace('\"', ''))\n",
    "\n",
    "    return model_topics"
   ]
  },
  {
   "cell_type": "code",
   "execution_count": 89,
   "id": "ecd42241",
   "metadata": {
    "id": "ecd42241"
   },
   "outputs": [],
   "source": [
    "# Performing cleaning on the topics\n",
    "def clean_topics(topics):\n",
    "    \"\"\"\n",
    "    Clean the generated topics by removing special characters.\n",
    "\n",
    "    Args:\n",
    "    topics (list): List of tuples containing topic number and descriptors.\n",
    "\n",
    "    Returns:\n",
    "    tuple: Cleaned topic descriptors for each topic and common descriptors between topics.\n",
    "    \"\"\"\n",
    "    topic_1 = []\n",
    "\n",
    "    for t in topics[0][1][:20]:\n",
    "        topic_1.append(t[1:-1])\n",
    "\n",
    "    topic_2 = []\n",
    "\n",
    "    for t in topics[1][1][:20]:\n",
    "        topic_2.append(t[1:-1])\n",
    "\n",
    "    topic_mixed = list(set(topic_1) & set(topic_2))\n",
    "\n",
    "    return topic_1, topic_2, topic_mixed"
   ]
  },
  {
   "cell_type": "code",
   "execution_count": 91,
   "id": "9f798ab0",
   "metadata": {
    "id": "9f798ab0"
   },
   "outputs": [],
   "source": [
    "# Splitting the data into train and test sets for cross-validation\n",
    "data = df['cleaned_text'].copy()\n",
    "data = data.dropna()\n",
    "data = data.sample(frac=1)\n",
    "\n",
    "n_splits = 5\n",
    "N = len(data)\n",
    "size = int(N * (1 / n_splits))\n",
    "\n",
    "data_split_list = []\n",
    "\n",
    "for i in range(n_splits):\n",
    "    \n",
    "    start_index = i * size\n",
    "    end_index = (i + 1) * size\n",
    "    \n",
    "    data_i = data[start_index:end_index]\n",
    "    \n",
    "    data_split_list.append(data_i)\n",
    "    \n",
    "t1, t2, tm = clean_topics(model_topics)"
   ]
  },
  {
   "cell_type": "code",
   "execution_count": 94,
   "id": "43b4157d",
   "metadata": {
    "colab": {
     "base_uri": "https://localhost:8080/"
    },
    "id": "43b4157d",
    "outputId": "14d94af7-b985-4192-d7d2-e547428a573c"
   },
   "outputs": [
    {
     "data": {
      "text/plain": [
       "{'topic_1': 'A', 'topic_2': 'B'}"
      ]
     },
     "execution_count": 94,
     "metadata": {},
     "output_type": "execute_result"
    }
   ],
   "source": [
    "# Checking for good topics\n",
    "def check_good_topics(topic_1, topic_2, topic_mixed, topic_pillar='depression'):\n",
    "    \"\"\"\n",
    "    Check for good topics based on the presence of a pillar topic.\n",
    "\n",
    "    Args:\n",
    "    topic_1 (list): List of descriptors for topic 1.\n",
    "    topic_2 (list): List of descriptors for topic 2.\n",
    "    topic_mixed (list): List of common descriptors between topics.\n",
    "    topic_pillar (str): Pillar topic to check presence in the topics.\n",
    "\n",
    "    Returns:\n",
    "    dict: Dictionary indicating good topics for analysis.\n",
    "    \"\"\"\n",
    "    dict_topic = dict()\n",
    "\n",
    "    if topic_pillar in topic_mixed:\n",
    "        return dict_topic\n",
    "\n",
    "    if topic_pillar not in topic_1 + topic_2:\n",
    "        return dict_topic\n",
    "\n",
    "    if topic_pillar in topic_1:\n",
    "        dict_topic['topic_1'] = 'A'\n",
    "        dict_topic['topic_2'] = 'B'\n",
    "\n",
    "    else:\n",
    "        dict_topic['topic_1'] = 'B'\n",
    "        dict_topic['topic_2'] = 'A'\n",
    "\n",
    "    return dict_topic\n",
    "\n",
    "check_good_topics(t1, t2, tm, topic_pilar = \"anxiety\")"
   ]
  },
  {
   "cell_type": "code",
   "execution_count": 95,
   "id": "4cc9682e",
   "metadata": {
    "id": "4cc9682e"
   },
   "outputs": [],
   "source": [
    "def build_n_topic_models(n_splits=n_splits, num_topics=2):\n",
    "    \"\"\"\n",
    "    Build n topic models with specified number of splits and topics.\n",
    "\n",
    "    Args:\n",
    "    n_splits (int): Number of splits for cross-validation.\n",
    "    num_topics (int): Number of topics to generate.\n",
    "\n",
    "    Yields:\n",
    "    tuple: Tuple containing cleaned topics and their descriptors.\n",
    "    \"\"\"\n",
    "    for i in range(n_splits):\n",
    "\n",
    "        good_current_topic = False\n",
    "\n",
    "        while not good_current_topic:\n",
    "\n",
    "            print(f\"Start iteration for topic number {i+1}\")\n",
    "\n",
    "            topics = generate_topics(num_topics, data_split_list[i])\n",
    "\n",
    "            topic_1, topic_2, topic_mixed = clean_topics(topics)\n",
    "            dict_topic = check_good_topics(topic_1, topic_2, topic_mixed, topic_pillar='anxiety')\n",
    "\n",
    "            if not dict_topic:\n",
    "                print(f\"\\tCURRENT ITERATION FAILED: start again\")\n",
    "\n",
    "            else:\n",
    "                good_current_topic = True\n",
    "                print(f\"\\tDone\")\n",
    "                yield (topic_1, topic_2, topic_mixed, dict_topic)"
   ]
  },
  {
   "cell_type": "code",
   "execution_count": 96,
   "id": "fa217366",
   "metadata": {
    "colab": {
     "base_uri": "https://localhost:8080/"
    },
    "id": "fa217366",
    "outputId": "7fa87203-bb8a-4588-ef78-b769c4134f41"
   },
   "outputs": [
    {
     "name": "stdout",
     "output_type": "stream",
     "text": [
      "Start iteration for topic number 1\n",
      "1 \"people\", \"life\", \"thing\", \"even\", \"friend\", \"feel_like\", \"really\", \"think\", \"would\", \"time\"\n",
      "2 \"anxiety\", \"day\", \"time\", \"really\", \"got\", \"going\", \"go\", \"work\", \"one\", \"started\"\n",
      "\tDone\n",
      "Start iteration for topic number 2\n",
      "1 \"people\", \"life\", \"thing\", \"even\", \"friend\", \"really\", \"feel_like\", \"would\", \"think\", \"time\"\n",
      "2 \"anxiety\", \"day\", \"time\", \"really\", \"work\", \"going\", \"got\", \"go\", \"year\", \"help\"\n",
      "\tDone\n",
      "Start iteration for topic number 3\n",
      "1 \"anxiety\", \"really\", \"day\", \"time\", \"work\", \"thing\", \"help\", \"going\", \"also\", \"one\"\n",
      "2 \"life\", \"people\", \"thing\", \"even\", \"friend\", \"would\", \"feel_like\", \"really\", \"time\", \"one\"\n",
      "\tDone\n",
      "Start iteration for topic number 4\n",
      "1 \"people\", \"life\", \"thing\", \"even\", \"feel_like\", \"think\", \"friend\", \"really\", \"would\", \"never\"\n",
      "2 \"anxiety\", \"day\", \"time\", \"really\", \"got\", \"going\", \"work\", \"one\", \"would\", \"go\"\n",
      "\tDone\n",
      "Start iteration for topic number 5\n",
      "1 \"anxiety\", \"really\", \"thing\", \"day\", \"time\", \"also\", \"help\", \"something\", \"feeling\", \"one\"\n",
      "2 \"life\", \"people\", \"even\", \"friend\", \"thing\", \"time\", \"would\", \"feel_like\", \"one\", \"never\"\n",
      "\tDone\n"
     ]
    }
   ],
   "source": [
    "topic_models = [(t1, t2, tm, dict_topic) \n",
    "                for (t1, t2, tm, dict_topic) in build_n_topic_models(5)]"
   ]
  },
  {
   "cell_type": "code",
   "execution_count": 97,
   "id": "9fbd30fb",
   "metadata": {
    "id": "9fbd30fb"
   },
   "outputs": [],
   "source": [
    "def get_data(df, topic_model):\n",
    "    \"\"\"\n",
    "    Extract data for training with assigned tags based on the given topic model.\n",
    "\n",
    "    Args:\n",
    "    df (DataFrame): DataFrame containing text data.\n",
    "    topic_model (tuple): Tuple containing cleaned topics and their descriptors.\n",
    "\n",
    "    Yields:\n",
    "    tuple: Tuple containing words and their corresponding tags.\n",
    "    \"\"\"\n",
    "    topic_1, topic_2, topic_mixed, dict_topic = topic_model\n",
    "\n",
    "    for post in df:\n",
    "        \n",
    "        words = []\n",
    "        tags = []\n",
    "\n",
    "        for word in post.split():\n",
    "\n",
    "            if word in topic_mixed:\n",
    "                tag = random.choice(list(dict_topic.values()))\n",
    "\n",
    "            elif word in topic_1:\n",
    "                tag = dict_topic['topic_1']\n",
    "\n",
    "            elif word in topic_2:\n",
    "                tag = dict_topic['topic_2']\n",
    "\n",
    "            else:\n",
    "                tag = '0'\n",
    "\n",
    "            words.append(word)\n",
    "            tags.append(tag)\n",
    "\n",
    "        yield (words, tags)"
   ]
  },
  {
   "cell_type": "code",
   "execution_count": 98,
   "id": "edc83ca6",
   "metadata": {
    "id": "edc83ca6"
   },
   "outputs": [],
   "source": [
    "instances_list = []\n",
    "\n",
    "for i in range(n_splits):\n",
    "    \n",
    "    df_split = data_split_list[i]\n",
    "    topic_model = topic_models[i]\n",
    "    \n",
    "    instances = [(words, tags) for (words, tags) in get_data(df_split, topic_model)]\n",
    "    instances_list.append(instances)\n",
    "train = instances_list[0] + instances_list[2] + instances_list[4]\n",
    "test = instances_list[1] + instances_list[3]\n"
   ]
  },
  {
   "cell_type": "code",
   "execution_count": 100,
   "id": "5da50a86",
   "metadata": {
    "id": "5da50a86"
   },
   "outputs": [],
   "source": [
    "# collect known word tokens and tags\n",
    "wordset, tagset = set(), set()\n",
    "train_instances = train\n",
    "for (words, tags) in train_instances:\n",
    "    tagset.update(set(tags))\n",
    "    wordset.update(set(words))\n",
    "\n",
    "# map words and tags into ints\n",
    "PAD = '-PAD-'\n",
    "UNK = '-UNK-'\n",
    "word2int = {word: i + 2 for i, word in enumerate(sorted(wordset))}\n",
    "word2int[PAD] = 0  # special token for padding\n",
    "word2int[UNK] = 1  # special token for unknown words\n",
    " \n",
    "tag2int = {tag: i + 1 for i, tag in enumerate(sorted(tagset))}\n",
    "tag2int[PAD] = 0\n",
    "# to translate it back\n",
    "int2tag = {i:tag for tag, i in tag2int.items()}\n",
    "\n",
    "def convert2ints(instances):\n",
    "    \"\"\"\n",
    "    Convert words and tags into integers.\n",
    "\n",
    "    Args:\n",
    "    instances (list): List of instances containing words and their corresponding tags.\n",
    "\n",
    "    Returns:\n",
    "    list: List of instances with words and tags represented as integers.\n",
    "    \"\"\"\n",
    "    result = []\n",
    "    for (words, tags) in instances:\n",
    "        # replace words with int, 1 for unknown words\n",
    "        word_ints = [word2int.get(word, 1) for word in words]\n",
    "        # replace tags with int\n",
    "        tag_ints = [tag2int[tag] for tag in tags]\n",
    "        result.append((word_ints, tag_ints))\n",
    "    return result"
   ]
  },
  {
   "cell_type": "code",
   "execution_count": 101,
   "id": "9f33d967",
   "metadata": {
    "colab": {
     "base_uri": "https://localhost:8080/"
    },
    "id": "9f33d967",
    "outputId": "2768e456-7e93-424c-bfc4-652e224f2b89"
   },
   "outputs": [
    {
     "name": "stdout",
     "output_type": "stream",
     "text": [
      "['anxiety', 'acid', 'reflux', 'heart', 'attack', 'hello', 'fellow', 'diagnosed', 'anything', 'among', 'three', 'feel', 'made', 'say', 'need', 'see', 'doctor', 'really', 'want', 'see', 'doctor', 'peace', 'mind', 'current', 'situation', 'country', 'safe', 'mean', 'time', 'teleconsultations', 'also', 'option', 'afraid', 'withing', 'three', 'reason', 'feel', 'something', 'feel', 'chest', 'everyday', 'fear', 'might', 'die', 'thank', 'understanding']\n",
      "[11242, 10491, 5200, 11242, 10491, 13653, 6440, 669, 6300, 5008, 5799, 13197, 13457, 7594, 6304, 6188, 8546, 2034, 11101, 8778, 12476, 13220, 12370, 776, 11506, 10394, 1646, 7854, 6665, 6188, 7882, 10492, 768, 2626, 10491, 1501, 7278, 1283, 7766, 308, 6762, 1283, 5350, 6284, 8778, 11638, 11808, 2034, 13457, 14428, 9055, 14361, 14736, 10449, 8615, 1554, 10770, 5831, 6191, 10411, 1646, 12295, 10994, 6300, 14349, 12469, 11343, 2555, 10491, 6398, 7537, 13304]\n",
      "['0', '0', '0', '0', '0', '0', '0', '0', '0', '0', 'A', '0', '0', '0', '0', '0', '0', '0', '0', '0', '0', '0', '0', '0', '0', '0', '0', '0', '0', '0', '0', '0', '0', '0', '0', '0', '0', '0', '0', '0', '0', '0', '0', '0', '0', '0', '0', '0', '0', 'A', 'B', 'B', '0', '0', '0', '0', '0', 'A', '0', '0', '0', '0', '0', '0', '0', '0', 'B', '0', '0', '0', '0', 'B']\n",
      "[1, 1, 1, 1, 1, 1, 1, 1, 1, 1, 2, 1, 1, 1, 1, 1, 1, 1, 1, 1, 1, 1, 1, 1, 1, 1, 1, 1, 1, 1, 1, 1, 1, 1, 1, 1, 1, 1, 1, 1, 1, 1, 1, 1, 1, 1, 1, 1, 1, 2, 3, 3, 1, 1, 1, 1, 1, 2, 1, 1, 1, 1, 1, 1, 1, 1, 3, 1, 1, 1, 1, 3]\n"
     ]
    }
   ],
   "source": [
    "# get some test data\n",
    "test_instances = test\n",
    "\n",
    "# apply integer mapping\n",
    "train_instances_int = convert2ints(train)\n",
    "test_instances_int = convert2ints(test)\n",
    "\n",
    "# separate the words from the tags\n",
    "train_sentences, train_tags = zip(*train_instances_int) \n",
    "test_sentences, test_tags = zip(*test_instances_int) \n",
    "\n",
    "print(train_instances[1][0])  # Original words in the second instance of the training data\n",
    "print(train_sentences[0])     # Converted words to integers in the first instance of the training data\n",
    "print(train_instances[0][1])  # Original tags in the first instance of the training data\n",
    "print(train_tags[0])          # Converted tags to integers in the first instance of the training data\n",
    "\n",
    "MAX_LENGTH = len(max(train_sentences, key=len)) + 5"
   ]
  },
  {
   "cell_type": "code",
   "execution_count": 103,
   "id": "72c9d225",
   "metadata": {
    "colab": {
     "base_uri": "https://localhost:8080/"
    },
    "id": "72c9d225",
    "outputId": "1a5734d8-0df9-4d7c-975b-f8c3ec5a0fa5"
   },
   "outputs": [
    {
     "name": "stdout",
     "output_type": "stream",
     "text": [
      "[11242 10491  5200 ...     0     0     0]\n",
      "[1 1 1 ... 0 0 0]\n"
     ]
    }
   ],
   "source": [
    "from keras_preprocessing.sequence import pad_sequences\n",
    "\n",
    "# add special padding at the end of every instance, up to MAX_LENGTH\n",
    "train_sentences = pad_sequences(train_sentences, maxlen=MAX_LENGTH, padding='post')\n",
    "test_sentences = pad_sequences(test_sentences, maxlen=MAX_LENGTH, padding='post')\n",
    "train_tags = pad_sequences(train_tags, maxlen=MAX_LENGTH, padding='post')\n",
    "test_tags = pad_sequences(test_tags, maxlen=MAX_LENGTH, padding='post')\n",
    "\n",
    "print(train_sentences[0])  # Padded sequence of words in the first instance of the training data\n",
    "print(train_tags[0])       # Padded sequence of tags in the first instance of the training data\n"
   ]
  },
  {
   "cell_type": "markdown",
   "id": "51e61d9a",
   "metadata": {},
   "source": [
    "## Long Short-Term Memory"
   ]
  },
  {
   "cell_type": "code",
   "execution_count": 104,
   "id": "TZSQvQkqFqZb",
   "metadata": {
    "id": "TZSQvQkqFqZb"
   },
   "outputs": [],
   "source": [
    "# Importing necessary packages\n",
    "from tensorflow.keras.layers import Embedding\n",
    "from tensorflow.keras.preprocessing.sequence import pad_sequences\n",
    "from tensorflow.keras.models import Sequential\n",
    "from tensorflow.keras.preprocessing.text import one_hot\n",
    "from tensorflow.keras.layers import LSTM, Dense, Dropout, BatchNormalization, Activation\n",
    "from tensorflow.keras.utils import to_categorical\n",
    "from keras.models import Model\n",
    "from keras.layers import Input, Bidirectional, LSTM, Dense, Dropout, Activation"
   ]
  },
  {
   "cell_type": "code",
   "execution_count": 105,
   "id": "3e575005",
   "metadata": {
    "colab": {
     "base_uri": "https://localhost:8080/"
    },
    "id": "3e575005",
    "outputId": "9dbc5abd-15a8-43ae-cc6e-6eb3beb90df1"
   },
   "outputs": [
    {
     "name": "stdout",
     "output_type": "stream",
     "text": [
      "Model: \"sequential\"\n",
      "_________________________________________________________________\n",
      " Layer (type)                Output Shape              Param #   \n",
      "=================================================================\n",
      " embedding (Embedding)       (None, 1318, 128)         1894272   \n",
      "                                                                 \n",
      " batch_normalization (BatchN  (None, 1318, 128)        512       \n",
      " ormalization)                                                   \n",
      "                                                                 \n",
      " activation (Activation)     (None, 1318, 128)         0         \n",
      "                                                                 \n",
      " dropout (Dropout)           (None, 1318, 128)         0         \n",
      "                                                                 \n",
      " lstm (LSTM)                 (None, 1318, 256)         394240    \n",
      "                                                                 \n",
      " dropout_1 (Dropout)         (None, 1318, 256)         0         \n",
      "                                                                 \n",
      " dense (Dense)               (None, 1318, 4)           1028      \n",
      "                                                                 \n",
      "=================================================================\n",
      "Total params: 2,290,052\n",
      "Trainable params: 2,289,796\n",
      "Non-trainable params: 256\n",
      "_________________________________________________________________\n"
     ]
    }
   ],
   "source": [
    "# Importing necessary packages\n",
    "from tensorflow.keras.layers import Embedding\n",
    "from tensorflow.keras.preprocessing.sequence import pad_sequences\n",
    "from tensorflow.keras.models import Sequential\n",
    "from tensorflow.keras.layers import LSTM, Dense, Dropout\n",
    "from tensorflow.keras.layers import BatchNormalization\n",
    "from tensorflow.keras.utils import to_categorical\n",
    "from tensorflow.keras.layers import Activation\n",
    "from keras.models import Model\n",
    "from keras.layers import Input\n",
    "\n",
    "# Implementing LSTM model to classify the severity of the posts.\n",
    "model = Sequential()\n",
    "\n",
    "# Adding an input layer for word IDs\n",
    "model.add(Input((MAX_LENGTH, ), name='word_IDs'))\n",
    "\n",
    "# Adding an embedding layer to convert word IDs to embeddings\n",
    "model.add(Embedding(input_dim=len(word2int), output_dim=128, mask_zero=True))\n",
    "\n",
    "# Adding BatchNormalization to normalize the activations of the previous layer\n",
    "model.add(BatchNormalization())\n",
    "\n",
    "# Adding an activation layer to introduce non-linearity\n",
    "model.add(Activation(\"relu\"))\n",
    "\n",
    "# Adding dropout to prevent overfitting\n",
    "model.add(Dropout(0.3))\n",
    "\n",
    "# Adding LSTM layer with 256 units and returning sequences\n",
    "model.add(LSTM(256, return_sequences=True))\n",
    "\n",
    "# Adding dropout again\n",
    "model.add(Dropout(0.3))\n",
    "\n",
    "# Adding a dense layer with the number of output classes and sigmoid activation\n",
    "model.add(Dense(len(tag2int), activation=\"sigmoid\"))\n",
    "\n",
    "# Printing the model summary\n",
    "model.summary()"
   ]
  },
  {
   "cell_type": "code",
   "execution_count": 107,
   "id": "gs37XwGbFlHW",
   "metadata": {
    "colab": {
     "base_uri": "https://localhost:8080/"
    },
    "id": "gs37XwGbFlHW",
    "outputId": "5ac5013e-8b0d-4f07-ed61-64de6cad2b8a"
   },
   "outputs": [
    {
     "name": "stdout",
     "output_type": "stream",
     "text": [
      "[1 1 1 ... 0 0 0]\n",
      "(1318, 4)\n",
      "[[0. 1. 0. 0.]\n",
      " [0. 1. 0. 0.]\n",
      " [0. 1. 0. 0.]\n",
      " ...\n",
      " [1. 0. 0. 0.]\n",
      " [1. 0. 0. 0.]\n",
      " [1. 0. 0. 0.]]\n"
     ]
    }
   ],
   "source": [
    "# Converting tag IDs to one-hot encoded vectors\n",
    "train_tags_1hot = to_categorical(train_tags, len(tag2int))\n",
    "test_tags_1hot = to_categorical(test_tags, len(tag2int))\n",
    "\n",
    "# Displaying the original tag IDs for the first instance\n",
    "print(train_tags[0])\n",
    "\n",
    "# Displaying the shape of the one-hot encoded vectors for the first instance\n",
    "print(train_tags_1hot[0].shape)\n",
    "\n",
    "# Displaying the one-hot encoded vector for the first instance\n",
    "print(train_tags_1hot[0])"
   ]
  },
  {
   "cell_type": "code",
   "execution_count": 108,
   "id": "J6wtIhkiHmJY",
   "metadata": {
    "colab": {
     "base_uri": "https://localhost:8080/"
    },
    "id": "J6wtIhkiHmJY",
    "outputId": "2eaa2462-d469-438b-caa8-02e91e42adef"
   },
   "outputs": [
    {
     "data": {
      "text/plain": [
       "(3636, 1318)"
      ]
     },
     "execution_count": 108,
     "metadata": {},
     "output_type": "execute_result"
    }
   ],
   "source": [
    "train_sentences.shape"
   ]
  },
  {
   "cell_type": "code",
   "execution_count": 109,
   "id": "c_wJOXNTHpLt",
   "metadata": {
    "colab": {
     "base_uri": "https://localhost:8080/"
    },
    "id": "c_wJOXNTHpLt",
    "outputId": "e2e685ff-eb7f-4ccf-f3df-fa6c624cb0a2"
   },
   "outputs": [
    {
     "data": {
      "text/plain": [
       "(3636, 1318, 4)"
      ]
     },
     "execution_count": 109,
     "metadata": {},
     "output_type": "execute_result"
    }
   ],
   "source": [
    "train_tags_1hot.shape"
   ]
  },
  {
   "cell_type": "code",
   "execution_count": 110,
   "id": "Ud_v6A17GxtR",
   "metadata": {
    "colab": {
     "base_uri": "https://localhost:8080/"
    },
    "id": "Ud_v6A17GxtR",
    "outputId": "8ca1e24d-0153-40de-c447-4dbe22726522"
   },
   "outputs": [
    {
     "name": "stdout",
     "output_type": "stream",
     "text": [
      "Epoch 1/10\n"
     ]
    },
    {
     "name": "stderr",
     "output_type": "stream",
     "text": [
      "2024-03-05 16:52:10.544545: W tensorflow/tsl/platform/profile_utils/cpu_utils.cc:128] Failed to get CPU frequency: 0 Hz\n"
     ]
    },
    {
     "name": "stdout",
     "output_type": "stream",
     "text": [
      "160/160 [==============================] - 263s 2s/step - loss: 0.1849 - accuracy: 0.9303 - val_loss: 0.7342 - val_accuracy: 0.9329\n",
      "Epoch 2/10\n",
      "160/160 [==============================] - 255s 2s/step - loss: 0.0666 - accuracy: 0.9626 - val_loss: 0.3628 - val_accuracy: 0.9267\n",
      "Epoch 3/10\n",
      "160/160 [==============================] - 258s 2s/step - loss: 0.0635 - accuracy: 0.9650 - val_loss: 0.1456 - val_accuracy: 0.9231\n",
      "Epoch 4/10\n",
      "160/160 [==============================] - 261s 2s/step - loss: 0.0583 - accuracy: 0.9702 - val_loss: 0.1563 - val_accuracy: 0.9283\n",
      "Epoch 5/10\n",
      "160/160 [==============================] - 264s 2s/step - loss: 0.0532 - accuracy: 0.9741 - val_loss: 0.1810 - val_accuracy: 0.9276\n",
      "Epoch 6/10\n",
      "160/160 [==============================] - 279s 2s/step - loss: 0.0484 - accuracy: 0.9774 - val_loss: 0.1886 - val_accuracy: 0.9292\n",
      "Epoch 7/10\n",
      "160/160 [==============================] - 296s 2s/step - loss: 0.0442 - accuracy: 0.9800 - val_loss: 0.1913 - val_accuracy: 0.9313\n",
      "Epoch 8/10\n",
      "160/160 [==============================] - 323s 2s/step - loss: 0.0395 - accuracy: 0.9829 - val_loss: 0.2142 - val_accuracy: 0.9308\n",
      "Epoch 9/10\n",
      "160/160 [==============================] - 319s 2s/step - loss: 0.0357 - accuracy: 0.9849 - val_loss: 0.2282 - val_accuracy: 0.9332\n",
      "Epoch 10/10\n",
      "160/160 [==============================] - 303s 2s/step - loss: 0.0321 - accuracy: 0.9864 - val_loss: 0.2450 - val_accuracy: 0.9305\n"
     ]
    }
   ],
   "source": [
    "batch_size = 16\n",
    "epochs = 10\n",
    "\n",
    "# # compile the model we have defined above\n",
    "model.compile(loss='categorical_crossentropy', optimizer='adam',metrics=['accuracy'])\n",
    "\n",
    "# run training and capture ouput log\n",
    "history = model.fit(train_sentences, train_tags_1hot,\n",
    "                    batch_size=batch_size,\n",
    "                    epochs=epochs,\n",
    "                    verbose=1,\n",
    "                    validation_split=0.3)"
   ]
  },
  {
   "cell_type": "code",
   "execution_count": 111,
   "id": "pe-Ifgck6m4n",
   "metadata": {
    "colab": {
     "base_uri": "https://localhost:8080/",
     "height": 279
    },
    "id": "pe-Ifgck6m4n",
    "outputId": "7f13676b-60b2-45dc-adcc-78baecd81583"
   },
   "outputs": [
    {
     "data": {
      "image/png": "[encoded data removed]",
      "text/plain": [
       "<Figure size 640x480 with 1 Axes>"
      ]
     },
     "metadata": {},
     "output_type": "display_data"
    }
   ],
   "source": [
    "from matplotlib import pyplot as plt\n",
    "training_accuracy = history.history['accuracy']\n",
    "test_accuracy = history.history['val_accuracy']\n",
    "epoch_count = range(1, len(training_accuracy) + 1)\n",
    "\n",
    "# Visualize loss history\n",
    "plt.plot(epoch_count, training_accuracy, 'r--')\n",
    "plt.plot(epoch_count, test_accuracy, 'b-')\n",
    "plt.legend(['Training Accuracy', 'Test Accuracy'])\n",
    "plt.xlabel('Epoch')\n",
    "plt.ylabel('Accuracy')\n",
    "plt.show();"
   ]
  },
  {
   "cell_type": "code",
   "execution_count": 112,
   "id": "36gshDVT6c52",
   "metadata": {
    "colab": {
     "base_uri": "https://localhost:8080/",
     "height": 279
    },
    "id": "36gshDVT6c52",
    "outputId": "aeda62c3-f356-42d5-e367-b4b5c03fb521"
   },
   "outputs": [
    {
     "data": {
      "image/png": "[encoded data removed]",
      "text/plain": [
       "<Figure size 640x480 with 1 Axes>"
      ]
     },
     "metadata": {},
     "output_type": "display_data"
    }
   ],
   "source": [
    "from matplotlib import pyplot as plt\n",
    "training_loss = history.history['loss']\n",
    "test_loss = history.history['val_loss']\n",
    "epoch_count = range(1, len(training_loss) + 1)\n",
    "\n",
    "# Visualize loss history\n",
    "plt.plot(epoch_count, training_loss, 'r--')\n",
    "plt.plot(epoch_count, test_loss, 'b-')\n",
    "plt.legend(['Training Loss', 'Test Loss'])\n",
    "plt.xlabel('Epoch')\n",
    "plt.ylabel('Loss')\n",
    "plt.show();"
   ]
  },
  {
   "cell_type": "code",
   "execution_count": null,
   "id": "lLKRGZfbG2Ui",
   "metadata": {
    "id": "lLKRGZfbG2Ui"
   },
   "outputs": [],
   "source": [
    " "
   ]
  }
 ],
 "metadata": {
  "accelerator": "GPU",
  "colab": {
   "collapsed_sections": [],
   "name": "LSTM_LDA-2.ipynb",
   "provenance": []
  },
  "kernelspec": {
   "display_name": "Python 3 (ipykernel)",
   "language": "python",
   "name": "python3"
  },
  "language_info": {
   "codemirror_mode": {
    "name": "ipython",
    "version": 3
   },
   "file_extension": ".py",
   "mimetype": "text/x-python",
   "name": "python",
   "nbconvert_exporter": "python",
   "pygments_lexer": "ipython3",
   "version": "3.11.4"
  }
 },
 "nbformat": 4,
 "nbformat_minor": 5
}
